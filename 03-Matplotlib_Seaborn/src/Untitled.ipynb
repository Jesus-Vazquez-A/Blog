{
 "cells": [
  {
   "cell_type": "code",
   "execution_count": 1,
   "id": "3740c378",
   "metadata": {},
   "outputs": [],
   "source": [
    "import pandas as pd"
   ]
  },
  {
   "cell_type": "code",
   "execution_count": 2,
   "id": "768f3b03",
   "metadata": {},
   "outputs": [],
   "source": [
    "df = pd.read_csv(\"C:/Users/PC/Desktop/Ciencias de datos/Blog/03-Matplotlib_Seaborn/data/cars_sales.csv\")"
   ]
  },
  {
   "cell_type": "code",
   "execution_count": 3,
   "id": "e9efa669",
   "metadata": {},
   "outputs": [],
   "source": [
    "df = df.query(\"mileage > 10000 and mileage < 100000\")"
   ]
  },
  {
   "cell_type": "code",
   "execution_count": 21,
   "id": "8acf3a2a",
   "metadata": {},
   "outputs": [],
   "source": [
    "mustang = df.query(\"model == ' Mustang'\")"
   ]
  },
  {
   "cell_type": "code",
   "execution_count": 22,
   "id": "67cedfdd",
   "metadata": {},
   "outputs": [
    {
     "data": {
      "text/html": [
       "<div><div id=9ac48279-6ad6-4df6-b348-20cd9d1534bd style=\"display:none; background-color:#9D6CFF; color:white; width:200px; height:30px; padding-left:5px; border-radius:4px; flex-direction:row; justify-content:space-around; align-items:center;\" onmouseover=\"this.style.backgroundColor='#BA9BF8'\" onmouseout=\"this.style.backgroundColor='#9D6CFF'\" onclick=\"window.commands?.execute('create-mitosheet-from-dataframe-output');\">See Full Dataframe in Mito</div> <script> if (window.commands?.hasCommand('create-mitosheet-from-dataframe-output')) document.getElementById('9ac48279-6ad6-4df6-b348-20cd9d1534bd').style.display = 'flex' </script> <table border=\"1\" class=\"dataframe\">\n",
       "  <thead>\n",
       "    <tr style=\"text-align: right;\">\n",
       "      <th></th>\n",
       "      <th>model</th>\n",
       "      <th>year</th>\n",
       "      <th>price</th>\n",
       "      <th>transmission</th>\n",
       "      <th>mileage</th>\n",
       "      <th>fuelType</th>\n",
       "      <th>engineSize</th>\n",
       "      <th>manufacturer</th>\n",
       "    </tr>\n",
       "  </thead>\n",
       "  <tbody>\n",
       "    <tr>\n",
       "      <th>7102</th>\n",
       "      <td>Mustang</td>\n",
       "      <td>2016</td>\n",
       "      <td>24999</td>\n",
       "      <td>Semi-Auto</td>\n",
       "      <td>42086</td>\n",
       "      <td>Petrol</td>\n",
       "      <td>5.0</td>\n",
       "      <td>Ford</td>\n",
       "    </tr>\n",
       "    <tr>\n",
       "      <th>10482</th>\n",
       "      <td>Mustang</td>\n",
       "      <td>2016</td>\n",
       "      <td>24497</td>\n",
       "      <td>Manual</td>\n",
       "      <td>38322</td>\n",
       "      <td>Petrol</td>\n",
       "      <td>2.3</td>\n",
       "      <td>Ford</td>\n",
       "    </tr>\n",
       "    <tr>\n",
       "      <th>20564</th>\n",
       "      <td>Mustang</td>\n",
       "      <td>2016</td>\n",
       "      <td>24990</td>\n",
       "      <td>Automatic</td>\n",
       "      <td>18000</td>\n",
       "      <td>Petrol</td>\n",
       "      <td>2.3</td>\n",
       "      <td>Ford</td>\n",
       "    </tr>\n",
       "  </tbody>\n",
       "</table></div>"
      ],
      "text/plain": [
       "          model  year  price transmission  mileage fuelType  engineSize  \\\n",
       "7102    Mustang  2016  24999    Semi-Auto    42086   Petrol         5.0   \n",
       "10482   Mustang  2016  24497       Manual    38322   Petrol         2.3   \n",
       "20564   Mustang  2016  24990    Automatic    18000   Petrol         2.3   \n",
       "\n",
       "      manufacturer  \n",
       "7102          Ford  \n",
       "10482         Ford  \n",
       "20564         Ford  "
      ]
     },
     "execution_count": 22,
     "metadata": {},
     "output_type": "execute_result"
    }
   ],
   "source": [
    "mustang.query(\"price < 25000\")"
   ]
  }
 ],
 "metadata": {
  "kernelspec": {
   "display_name": "Python 3 (ipykernel)",
   "language": "python",
   "name": "python3"
  },
  "language_info": {
   "codemirror_mode": {
    "name": "ipython",
    "version": 3
   },
   "file_extension": ".py",
   "mimetype": "text/x-python",
   "name": "python",
   "nbconvert_exporter": "python",
   "pygments_lexer": "ipython3",
   "version": "3.9.7"
  }
 },
 "nbformat": 4,
 "nbformat_minor": 5
}
