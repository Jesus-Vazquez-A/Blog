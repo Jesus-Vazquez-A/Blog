{
 "cells": [
  {
   "cell_type": "markdown",
   "id": "64563cc4",
   "metadata": {},
   "source": [
    "# *10 mistakes you should NEVER make in Python*"
   ]
  },
  {
   "cell_type": "markdown",
   "id": "fbec584c",
   "metadata": {},
   "source": [
    "## *1- Do not define variables on a single line*"
   ]
  },
  {
   "cell_type": "code",
   "execution_count": 1,
   "id": "9132cf35",
   "metadata": {},
   "outputs": [
    {
     "name": "stdout",
     "output_type": "stream",
     "text": [
      "12 56 128\n"
     ]
    }
   ],
   "source": [
    "a = 12\n",
    "b = 56\n",
    "c = 128\n",
    "\n",
    "print(a,b,c)"
   ]
  },
  {
   "cell_type": "code",
   "execution_count": 2,
   "id": "363fb02f",
   "metadata": {},
   "outputs": [
    {
     "name": "stdout",
     "output_type": "stream",
     "text": [
      "12 56 128\n"
     ]
    }
   ],
   "source": [
    "a,b,c = 12,56,128\n",
    "\n",
    "print(a,b,c)"
   ]
  },
  {
   "cell_type": "markdown",
   "id": "29bc6e2d",
   "metadata": {},
   "source": [
    "## 2- Use * to import modules."
   ]
  },
  {
   "cell_type": "code",
   "execution_count": 3,
   "id": "fe8846b1",
   "metadata": {},
   "outputs": [
    {
     "name": "stdout",
     "output_type": "stream",
     "text": [
      "1.0\n"
     ]
    }
   ],
   "source": [
    "from numpy import *\n",
    "numbers = arange(1,10,step = 10)\n",
    "print(mean(numbers))"
   ]
  },
  {
   "cell_type": "code",
   "execution_count": 4,
   "id": "6daff7ab",
   "metadata": {},
   "outputs": [
    {
     "name": "stdout",
     "output_type": "stream",
     "text": [
      "1.0\n"
     ]
    }
   ],
   "source": [
    "import numpy as np\n",
    "numbers = np.arange(1,10,step = 10)\n",
    "print(np.mean(numbers))"
   ]
  },
  {
   "cell_type": "code",
   "execution_count": 5,
   "id": "b1ca7655",
   "metadata": {},
   "outputs": [
    {
     "name": "stdout",
     "output_type": "stream",
     "text": [
      "1.0\n"
     ]
    }
   ],
   "source": [
    "from numpy import arange,mean\n",
    "numbers = arange(1,10,step = 10)\n",
    "print(mean(numbers))"
   ]
  },
  {
   "cell_type": "markdown",
   "id": "da58a4cc",
   "metadata": {},
   "source": [
    "## 3-*Use \"+\" to concatenate*"
   ]
  },
  {
   "cell_type": "code",
   "execution_count": 6,
   "id": "98b9958d",
   "metadata": {},
   "outputs": [
    {
     "name": "stdout",
     "output_type": "stream",
     "text": [
      "My name is Amado and I am 22 years old\n"
     ]
    }
   ],
   "source": [
    "name,year = \"Amado\",22\n",
    "print(\"My name is \" + name + \" and I am \" + str(year) + \" years old\")"
   ]
  },
  {
   "cell_type": "code",
   "execution_count": 7,
   "id": "d5f11652",
   "metadata": {},
   "outputs": [
    {
     "name": "stdout",
     "output_type": "stream",
     "text": [
      "My name is Amado and Im 22 years old\n"
     ]
    }
   ],
   "source": [
    "name,year = \"Amado\",22\n",
    "print(f\"My name is {name} and Im {year} years old\")"
   ]
  },
  {
   "cell_type": "markdown",
   "id": "75c78916",
   "metadata": {},
   "source": [
    "## 4- Don't use lambda function."
   ]
  },
  {
   "cell_type": "code",
   "execution_count": 8,
   "id": "6289d1bb",
   "metadata": {},
   "outputs": [
    {
     "name": "stdout",
     "output_type": "stream",
     "text": [
      "144\n"
     ]
    }
   ],
   "source": [
    "def function(x):\n",
    "  return x**2\n",
    "  \n",
    "print(function(12))"
   ]
  },
  {
   "cell_type": "code",
   "execution_count": 9,
   "id": "3af1f314",
   "metadata": {},
   "outputs": [
    {
     "name": "stdout",
     "output_type": "stream",
     "text": [
      "144\n"
     ]
    }
   ],
   "source": [
    "function = lambda x: x**2\n",
    "\n",
    "print(function(12))"
   ]
  },
  {
   "cell_type": "markdown",
   "id": "da000411",
   "metadata": {},
   "source": [
    "## *5- Using If Else from multiple lines of code.*"
   ]
  },
  {
   "cell_type": "code",
   "execution_count": 10,
   "id": "83352a90",
   "metadata": {},
   "outputs": [
    {
     "name": "stdout",
     "output_type": "stream",
     "text": [
      "You are of age\n"
     ]
    }
   ],
   "source": [
    "age = 22\n",
    "\n",
    "if age>=18:\n",
    "  print('You are of age')\n",
    "\n",
    "else:\n",
    "    \n",
    "  print('You are not  of age')"
   ]
  },
  {
   "cell_type": "code",
   "execution_count": 11,
   "id": "236612c2",
   "metadata": {},
   "outputs": [
    {
     "data": {
      "text/plain": [
       "'You are of age'"
      ]
     },
     "execution_count": 11,
     "metadata": {},
     "output_type": "execute_result"
    }
   ],
   "source": [
    "age = 22\n",
    "\"You are of age\" if age>=18 else \"You are not of age\""
   ]
  },
  {
   "cell_type": "markdown",
   "id": "b09ade60",
   "metadata": {},
   "source": [
    "## *6- Using multiple conditional If statements.*"
   ]
  },
  {
   "cell_type": "code",
   "execution_count": 12,
   "id": "6023fa05",
   "metadata": {},
   "outputs": [],
   "source": [
    "kepler_third_law = lambda ua: (np.round(np.sqrt(ua**3),1))"
   ]
  },
  {
   "cell_type": "code",
   "execution_count": 13,
   "id": "f283ae76",
   "metadata": {},
   "outputs": [],
   "source": [
    "def calculate_years(planet):\n",
    "    planet = planet.lower()\n",
    "    if planet == \"mercury\":\n",
    "        ua = 0.387\n",
    "        print(f'Number of planet years Mercury: {kepler_third_law(ua)}')\n",
    "        \n",
    "    if planet == \"venus\":\n",
    "        ua = 0.723\n",
    "        print(f'Number of planet years Venus: {kepler_third_law(ua)}')\n",
    "        \n",
    "    if planet == \"earth\":\n",
    "        ua = 1\n",
    "        print(f'Number of planet years Earth: {kepler_third_law(ua)}')\n",
    "        \n",
    "    if planet == \"mars\":\n",
    "        ua = 1.524\n",
    "        print(f'Number of planet years Mars: {kepler_third_law(ua)}')\n",
    "        \n",
    "    if planet == \"earth\":\n",
    "        ua = 1\n",
    "        print(f'Number of planet years Earth: {kepler_third_law(ua)}')\n",
    "        \n",
    "    if planet == \"jupiter\":\n",
    "        ua = 5.208\n",
    "        print(f'Number of planet years Jupiter: {kepler_third_law(ua)}')\n",
    "        \n",
    "    if planet == \"saturn\":\n",
    "        ua = 9.539\n",
    "        print(f'Number of planet years Saturn: {kepler_third_law(ua)}')\n",
    "        \n",
    "    if planet == \"uranus\":\n",
    "        ua = 19.182\n",
    "        print(f'Number of planet years Uranus: {kepler_third_law(ua)}')\n",
    "        \n",
    "    if planet == \"neptune\":\n",
    "        ua = 30.058\n",
    "        print(f'Number of planet years Neptune: {kepler_third_law(ua)}')\n",
    "        \n",
    "    if planet == \"pluto\":\n",
    "        ua = 39.439\n",
    "        print(f'Number of planet years Pluto: {kepler_third_law(ua)}')"
   ]
  },
  {
   "cell_type": "code",
   "execution_count": 14,
   "id": "41236142",
   "metadata": {},
   "outputs": [
    {
     "name": "stdout",
     "output_type": "stream",
     "text": [
      "Number of planet years Saturn: 29.5\n"
     ]
    }
   ],
   "source": [
    "calculate_years('saturn')"
   ]
  },
  {
   "cell_type": "code",
   "execution_count": 15,
   "id": "9f368025",
   "metadata": {},
   "outputs": [],
   "source": [
    "import numpy as np\n",
    "\n",
    "kepler_third_law = lambda ua: (np.round(np.sqrt(ua**3),1))\n",
    "\n",
    "def calculate_years(planet):\n",
    "    \n",
    "    planet = planet.lower()\n",
    "    \n",
    "    ua_dict = {'saturn':9.539,\n",
    "               'earth':1,\n",
    "               'mercury':0.387,\n",
    "               'venus':0.723,\n",
    "              'jupiter':5.203,\n",
    "              'uranus':19.182,\n",
    "              'pluto':39.439,\n",
    "              'mars':1.524}\n",
    "\n",
    "    years = kepler_third_law(ua_dict[planet])\n",
    "        \n",
    "    return f'Number of planet years {planet}: {years}'"
   ]
  },
  {
   "cell_type": "code",
   "execution_count": 16,
   "id": "d353dadf",
   "metadata": {},
   "outputs": [
    {
     "data": {
      "text/plain": [
       "'Number of planet years saturn: 29.5'"
      ]
     },
     "execution_count": 16,
     "metadata": {},
     "output_type": "execute_result"
    }
   ],
   "source": [
    "calculate_years('saturn')"
   ]
  },
  {
   "cell_type": "markdown",
   "id": "36d7b149",
   "metadata": {},
   "source": [
    "## *7- Don't use list comprehension.*"
   ]
  },
  {
   "cell_type": "code",
   "execution_count": 17,
   "id": "a1de4770",
   "metadata": {},
   "outputs": [],
   "source": [
    "import numpy as np\n",
    "\n",
    "numbers = np.arange(1,20+1,step = 1)\n",
    "\n",
    "par_numbers = []\n",
    "\n",
    "for number in numbers:\n",
    "\n",
    "    if number %2==0:\n",
    "\n",
    "        par_numbers.append(number)"
   ]
  },
  {
   "cell_type": "code",
   "execution_count": 18,
   "id": "2b95cdab",
   "metadata": {},
   "outputs": [
    {
     "data": {
      "text/plain": [
       "[2, 4, 6, 8, 10, 12, 14, 16, 18, 20]"
      ]
     },
     "execution_count": 18,
     "metadata": {},
     "output_type": "execute_result"
    }
   ],
   "source": [
    "import numpy as np\n",
    "\n",
    "numbers = np.arange(1,20+1,step = 1)\n",
    "\n",
    "[n for n in numbers if n % 2 == 0]"
   ]
  },
  {
   "cell_type": "markdown",
   "id": "b5eea208",
   "metadata": {},
   "source": [
    "## *8- Don't use enumerate.*"
   ]
  },
  {
   "cell_type": "code",
   "execution_count": 19,
   "id": "335e9936",
   "metadata": {},
   "outputs": [
    {
     "name": "stdout",
     "output_type": "stream",
     "text": [
      "Amado Vazquez\n",
      "John Jobs\n",
      "Artemio Lara\n"
     ]
    }
   ],
   "source": [
    "names = ['Amado','John','Artemio']\n",
    "last_name = ['Vazquez','Jobs','Lara']\n",
    "\n",
    "for i in range(len(names)):\n",
    "    print(f'{names[i]} {last_name[i]}')"
   ]
  },
  {
   "cell_type": "code",
   "execution_count": 20,
   "id": "cc1c972d",
   "metadata": {},
   "outputs": [
    {
     "name": "stdout",
     "output_type": "stream",
     "text": [
      "Amado Vazquez\n",
      "John Jobs\n",
      "Artemio Lara\n"
     ]
    }
   ],
   "source": [
    "names = ['Amado','John','Artemio']\n",
    "last_name = ['Vazquez','Jobs','Lara']\n",
    "\n",
    "for i,name in enumerate(names):\n",
    "    print(f'{name} {last_name[i]}')"
   ]
  },
  {
   "cell_type": "markdown",
   "id": "7874759f",
   "metadata": {},
   "source": [
    "## *9- Do not use zip.*"
   ]
  },
  {
   "cell_type": "code",
   "execution_count": 21,
   "id": "0d130205",
   "metadata": {},
   "outputs": [
    {
     "name": "stdout",
     "output_type": "stream",
     "text": [
      "Infiniti Q50 3.0\n",
      "Mazda Mazda 6 2.5\n",
      "Nissan Altima 2.0\n",
      "BMW 3 Series 2.0\n"
     ]
    }
   ],
   "source": [
    "manufacturer = ['Infiniti','Mazda','Nissan','BMW']\n",
    "model = ['Q50','Mazda 6','Altima','3 Series']\n",
    "engine = [3.0,2.5,2.0,2.0]\n",
    "\n",
    "for i in range(len(manufacturer)):\n",
    "    print(f'{manufacturer[i]} {model[i]} {engine[i]}')"
   ]
  },
  {
   "cell_type": "code",
   "execution_count": 22,
   "id": "5cbdfb6a",
   "metadata": {},
   "outputs": [
    {
     "name": "stdout",
     "output_type": "stream",
     "text": [
      "Infiniti Q50 3.0\n",
      "Mazda Mazda 6 2.5\n",
      "Nissan Altima 2.0\n",
      "BMW 3 Series 2.0\n"
     ]
    }
   ],
   "source": [
    "manufacturers = ['Infiniti','Mazda','Nissan','BMW']\n",
    "models = ['Q50','Mazda 6','Altima','3 Series']\n",
    "engines = [3.0,2.5,2.0,2.0]\n",
    "\n",
    "for (manufacturer,model,engine) in zip(manufacturers,models,engines):\n",
    "    print(f'{manufacturer} {model} {engine}')"
   ]
  },
  {
   "cell_type": "markdown",
   "id": "ceeb5e16",
   "metadata": {},
   "source": [
    "## *10- Keys()/Items()*"
   ]
  },
  {
   "cell_type": "code",
   "execution_count": 23,
   "id": "118e36c7",
   "metadata": {},
   "outputs": [
    {
     "data": {
      "text/plain": [
       "dict_items([('PS5', 499), ('PS5 Digital', 399), ('Xbox Series S', 299), ('Xbox Series X', 499)])"
      ]
     },
     "execution_count": 23,
     "metadata": {},
     "output_type": "execute_result"
    }
   ],
   "source": [
    "consoles_dict = {'PS5':499,\n",
    "                 'PS5 Digital':399,\n",
    "                 'Xbox Series S':299,\n",
    "                 'Xbox Series X':499}\n",
    "\n",
    "consoles_dict.keys() #'PS5','PS5 Digital','Xbox Series S','Xbox Series X'\n",
    "consoles_dict.values() # 499,399,299,499\n",
    "consoles_dict.items()"
   ]
  },
  {
   "cell_type": "code",
   "execution_count": 29,
   "id": "b4aa175a",
   "metadata": {},
   "outputs": [
    {
     "name": "stdout",
     "output_type": "stream",
     "text": [
      "PS5\n",
      "PS5 Digital\n",
      "Xbox Series S\n",
      "Xbox Series X\n"
     ]
    }
   ],
   "source": [
    "for key in consoles_dict:\n",
    "  print(key)"
   ]
  },
  {
   "cell_type": "code",
   "execution_count": 25,
   "id": "0e0cb4e0",
   "metadata": {},
   "outputs": [
    {
     "name": "stdout",
     "output_type": "stream",
     "text": [
      "499\n",
      "399\n",
      "299\n",
      "499\n"
     ]
    }
   ],
   "source": [
    "for key in consoles_dict:\n",
    "  print(consoles_dict[key])"
   ]
  },
  {
   "cell_type": "code",
   "execution_count": 26,
   "id": "b72b42b6",
   "metadata": {},
   "outputs": [
    {
     "name": "stdout",
     "output_type": "stream",
     "text": [
      "PS5 499\n",
      "PS5 Digital 399\n",
      "Xbox Series S 299\n",
      "Xbox Series X 499\n"
     ]
    }
   ],
   "source": [
    "for key,value in consoles_dict.items():\n",
    "  print(key,value)"
   ]
  },
  {
   "cell_type": "markdown",
   "id": "c041b87e",
   "metadata": {},
   "source": [
    "## *11-Do not rely on modules.*"
   ]
  },
  {
   "cell_type": "code",
   "execution_count": 30,
   "id": "8ea8d890",
   "metadata": {},
   "outputs": [
    {
     "name": "stdout",
     "output_type": "stream",
     "text": [
      "5.5\n"
     ]
    }
   ],
   "source": [
    "sum_ = 0\n",
    "\n",
    "for number in range(1,10+1):\n",
    "  sum_ += number\n",
    "  \n",
    "print(sum_/10)"
   ]
  },
  {
   "cell_type": "code",
   "execution_count": 31,
   "id": "0f83e3d6",
   "metadata": {},
   "outputs": [
    {
     "name": "stdout",
     "output_type": "stream",
     "text": [
      "5.5\n"
     ]
    }
   ],
   "source": [
    "import numpy as np\n",
    "\n",
    "numbers = np.arange(1,10+1,1)\n",
    "\n",
    "print(np.mean(numbers))"
   ]
  },
  {
   "cell_type": "markdown",
   "id": "e33d7c5a",
   "metadata": {},
   "source": [
    "## *12- Do not use the IN*"
   ]
  },
  {
   "cell_type": "code",
   "execution_count": 38,
   "id": "df9a0f40",
   "metadata": {},
   "outputs": [
    {
     "name": "stdout",
     "output_type": "stream",
     "text": [
      "mMdel available\n"
     ]
    }
   ],
   "source": [
    "\n",
    "car_model = \"Maxima\"\n",
    "if car_model == \"Altima\" or car_model == \"Maxima\" or car_model == \"Q50\" or car_model == \"Q60\":\n",
    "    print('mMdel available')"
   ]
  },
  {
   "cell_type": "code",
   "execution_count": 43,
   "id": "786ae817",
   "metadata": {},
   "outputs": [
    {
     "data": {
      "text/plain": [
       "'Model avaliable'"
      ]
     },
     "execution_count": 43,
     "metadata": {},
     "output_type": "execute_result"
    }
   ],
   "source": [
    "car_models = ['Altima','Maxima','Q50','Q60']\n",
    "car_model = \"Maxima\"\n",
    "'Model avaliable' if car_model in car_models else 'Model not avaliable'"
   ]
  }
 ],
 "metadata": {
  "kernelspec": {
   "display_name": "Python 3 (ipykernel)",
   "language": "python",
   "name": "python3"
  },
  "language_info": {
   "codemirror_mode": {
    "name": "ipython",
    "version": 3
   },
   "file_extension": ".py",
   "mimetype": "text/x-python",
   "name": "python",
   "nbconvert_exporter": "python",
   "pygments_lexer": "ipython3",
   "version": "3.9.7"
  }
 },
 "nbformat": 4,
 "nbformat_minor": 5
}
