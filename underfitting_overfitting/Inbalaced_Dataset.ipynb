{
 "cells": [
  {
   "cell_type": "markdown",
   "id": "92651ce8",
   "metadata": {},
   "source": [
    "## *Import Libraries*"
   ]
  },
  {
   "cell_type": "code",
   "execution_count": 35,
   "id": "3f4612d3",
   "metadata": {},
   "outputs": [],
   "source": [
    "import pandas as pd\n",
    "import numpy as np\n",
    "import seaborn as sns\n",
    "import matplotlib.pyplot as plt\n",
    "import warnings"
   ]
  },
  {
   "cell_type": "code",
   "execution_count": 2,
   "id": "7127f546",
   "metadata": {},
   "outputs": [],
   "source": [
    "warnings.filterwarnings('ignore')"
   ]
  },
  {
   "cell_type": "markdown",
   "id": "021f48a6",
   "metadata": {},
   "source": [
    "## *Load Dataset*"
   ]
  },
  {
   "cell_type": "code",
   "execution_count": 44,
   "id": "0dc70d6d",
   "metadata": {},
   "outputs": [],
   "source": [
    "df = pd.read_csv('Churn_Modelling.csv')"
   ]
  },
  {
   "cell_type": "code",
   "execution_count": 4,
   "id": "a240ca38",
   "metadata": {},
   "outputs": [
    {
     "data": {
      "text/plain": [
       "Index(['RowNumber', 'CustomerId', 'Surname', 'CreditScore', 'Geography',\n",
       "       'Gender', 'Age', 'Tenure', 'Balance', 'NumOfProducts', 'HasCrCard',\n",
       "       'IsActiveMember', 'EstimatedSalary', 'Exited'],\n",
       "      dtype='object')"
      ]
     },
     "execution_count": 4,
     "metadata": {},
     "output_type": "execute_result"
    }
   ],
   "source": [
    "df.columns"
   ]
  },
  {
   "cell_type": "code",
   "execution_count": 45,
   "id": "8342b8db",
   "metadata": {},
   "outputs": [],
   "source": [
    "drops = ['RowNumber', 'CustomerId', 'Surname']\n",
    "df.drop(columns=drops,inplace = True)"
   ]
  },
  {
   "cell_type": "code",
   "execution_count": 51,
   "id": "26cb2798",
   "metadata": {},
   "outputs": [
    {
     "data": {
      "image/png": "[encoded data removed]",
      "text/plain": [
       "<Figure size 1080x360 with 1 Axes>"
      ]
     },
     "metadata": {},
     "output_type": "display_data"
    }
   ],
   "source": [
    "plt.style.use('ggplot')\n",
    "fig,ax = plt.subplots(1,1,figsize = (15,5))\n",
    "ax.set_title('Unbalanced Dataset')\n",
    "sns.countplot(data = df,x = \"Exited\",ax = ax)\n",
    "plt.savefig('unbalanced_dataset.png')\n",
    "plt.show()"
   ]
  },
  {
   "cell_type": "markdown",
   "id": "eb5d24d5",
   "metadata": {},
   "source": [
    "## *Preprocessing*"
   ]
  },
  {
   "cell_type": "code",
   "execution_count": 7,
   "id": "d010b38d",
   "metadata": {},
   "outputs": [],
   "source": [
    "df.Gender = np.where(df.Gender==\"Male\",1,0)"
   ]
  },
  {
   "cell_type": "code",
   "execution_count": 8,
   "id": "1a3751a4",
   "metadata": {},
   "outputs": [],
   "source": [
    "df = pd.get_dummies(df,prefix=\"\",prefix_sep=\"\")"
   ]
  },
  {
   "cell_type": "markdown",
   "id": "2724b013",
   "metadata": {},
   "source": [
    "## *Split Data*"
   ]
  },
  {
   "cell_type": "code",
   "execution_count": 9,
   "id": "782a41ce",
   "metadata": {},
   "outputs": [],
   "source": [
    "X = df.drop(columns=['Exited']).values\n",
    "y = df.Exited.values"
   ]
  },
  {
   "cell_type": "code",
   "execution_count": 10,
   "id": "865ddfab",
   "metadata": {},
   "outputs": [],
   "source": [
    "from sklearn.model_selection import train_test_split"
   ]
  },
  {
   "cell_type": "code",
   "execution_count": 11,
   "id": "8bf88a77",
   "metadata": {},
   "outputs": [],
   "source": [
    "X_train,X_test,y_train,y_test = train_test_split(X,y,test_size = 0.2,random_state = 42)"
   ]
  },
  {
   "cell_type": "markdown",
   "id": "8af9f834",
   "metadata": {},
   "source": [
    "## *First Model*"
   ]
  },
  {
   "cell_type": "code",
   "execution_count": 12,
   "id": "444d642c",
   "metadata": {},
   "outputs": [],
   "source": [
    "from sklearn.ensemble import RandomForestClassifier"
   ]
  },
  {
   "cell_type": "code",
   "execution_count": 59,
   "id": "630487aa",
   "metadata": {},
   "outputs": [],
   "source": [
    "clf = RandomForestClassifier(max_depth=6,\n",
    "                             n_estimators = 400,\n",
    "                             random_state = 42)"
   ]
  },
  {
   "cell_type": "code",
   "execution_count": 60,
   "id": "bd1eea58",
   "metadata": {},
   "outputs": [
    {
     "data": {
      "text/plain": [
       "RandomForestClassifier(max_depth=6, n_estimators=400, random_state=42)"
      ]
     },
     "execution_count": 60,
     "metadata": {},
     "output_type": "execute_result"
    }
   ],
   "source": [
    "clf.fit(X_train,y_train)"
   ]
  },
  {
   "cell_type": "code",
   "execution_count": 61,
   "id": "a68365a8",
   "metadata": {},
   "outputs": [],
   "source": [
    "from sklearn.metrics import confusion_matrix"
   ]
  },
  {
   "cell_type": "code",
   "execution_count": 62,
   "id": "6f88ab7e",
   "metadata": {},
   "outputs": [],
   "source": [
    "def cm_plot(cm):\n",
    "    \n",
    "    fig,ax = plt.subplots(1,1,figsize = (15,5))\n",
    "    ax.set_title('Confussion Matrix')\n",
    "    sns.heatmap(cm,annot=True,fmt=\".1f\",ax = ax,cmap=\"crest\")\n",
    "    "
   ]
  },
  {
   "cell_type": "code",
   "execution_count": 64,
   "id": "7a9600c9",
   "metadata": {},
   "outputs": [],
   "source": [
    "pred = clf.predict(X_test)\n",
    "cm = confusion_matrix(y_test,pred)"
   ]
  },
  {
   "cell_type": "code",
   "execution_count": 67,
   "id": "f3181e63",
   "metadata": {},
   "outputs": [
    {
     "data": {
      "image/png": "[encoded data removed]",
      "text/plain": [
       "<Figure size 1080x360 with 2 Axes>"
      ]
     },
     "metadata": {},
     "output_type": "display_data"
    }
   ],
   "source": [
    "cm_plot(cm)\n",
    "plt.savefig('confusion_matrix_inbalaced.png')"
   ]
  },
  {
   "cell_type": "markdown",
   "id": "7f53806f",
   "metadata": {},
   "source": [
    "## *Second Model*"
   ]
  },
  {
   "cell_type": "code",
   "execution_count": 85,
   "id": "9b59b3d1",
   "metadata": {},
   "outputs": [],
   "source": [
    "clf = RandomForestClassifier(max_depth=6,\n",
    "                             n_estimators = 400,\n",
    "                             random_state = 42,\n",
    "                             class_weight=\"balanced\")"
   ]
  },
  {
   "cell_type": "markdown",
   "id": "befa73dd",
   "metadata": {},
   "source": [
    "* class_weight: It refers to equalize the weights for each category, it helps enormously when a class is enormously unbalanced as in this case."
   ]
  },
  {
   "cell_type": "code",
   "execution_count": 69,
   "id": "9c84a313",
   "metadata": {},
   "outputs": [
    {
     "data": {
      "text/plain": [
       "RandomForestClassifier(class_weight='balanced', max_depth=6, n_estimators=400,\n",
       "                       random_state=42)"
      ]
     },
     "execution_count": 69,
     "metadata": {},
     "output_type": "execute_result"
    }
   ],
   "source": [
    "clf.fit(X_train,y_train)"
   ]
  },
  {
   "cell_type": "code",
   "execution_count": 70,
   "id": "5fdbeee7",
   "metadata": {},
   "outputs": [
    {
     "data": {
      "text/plain": [
       "0.818"
      ]
     },
     "execution_count": 70,
     "metadata": {},
     "output_type": "execute_result"
    }
   ],
   "source": [
    "clf.score(X_train,y_train)"
   ]
  },
  {
   "cell_type": "code",
   "execution_count": 71,
   "id": "fb9c55fa",
   "metadata": {},
   "outputs": [
    {
     "data": {
      "text/plain": [
       "0.814"
      ]
     },
     "execution_count": 71,
     "metadata": {},
     "output_type": "execute_result"
    }
   ],
   "source": [
    "clf.score(X_test,y_test)"
   ]
  },
  {
   "cell_type": "code",
   "execution_count": 72,
   "id": "60314f09",
   "metadata": {},
   "outputs": [
    {
     "data": {
      "image/png": "[encoded data removed]",
      "text/plain": [
       "<Figure size 1080x360 with 2 Axes>"
      ]
     },
     "metadata": {},
     "output_type": "display_data"
    }
   ],
   "source": [
    "pred = clf.predict(X_test)\n",
    "cm = confusion_matrix(y_test,pred)\n",
    "cm_plot(cm)\n",
    "plt.savefig('confusion_matrix_balanced.png')"
   ]
  },
  {
   "cell_type": "markdown",
   "id": "4e4ad83b",
   "metadata": {},
   "source": [
    "## *SMOTE*"
   ]
  },
  {
   "cell_type": "markdown",
   "id": "82b12180",
   "metadata": {},
   "source": [
    "The SMOTE function also serves to balance the data, it consists of adding more new data to the categories that are less present in the dataset, it takes similar characteristics of the data to create them."
   ]
  },
  {
   "cell_type": "code",
   "execution_count": 74,
   "id": "20ca0700",
   "metadata": {},
   "outputs": [],
   "source": [
    "from imblearn.over_sampling import SMOTE"
   ]
  },
  {
   "cell_type": "code",
   "execution_count": 76,
   "id": "8a5d663f",
   "metadata": {},
   "outputs": [],
   "source": [
    "smote = SMOTE(random_state=42)"
   ]
  },
  {
   "cell_type": "code",
   "execution_count": 77,
   "id": "156190cf",
   "metadata": {},
   "outputs": [],
   "source": [
    "X_train_balanced,y_train_balanced = smote.fit_resample(X_train,y_train)\n",
    "X_test_balanced,y_test_balanced = smote.fit_resample(X_test,y_test)"
   ]
  },
  {
   "cell_type": "code",
   "execution_count": 82,
   "id": "270287a1",
   "metadata": {},
   "outputs": [
    {
     "data": {
      "text/plain": [
       "(array([0, 1], dtype=int64), array([6356, 6356], dtype=int64))"
      ]
     },
     "execution_count": 82,
     "metadata": {},
     "output_type": "execute_result"
    }
   ],
   "source": [
    "np.unique(y_train_balanced,return_counts=True)"
   ]
  },
  {
   "cell_type": "code",
   "execution_count": 81,
   "id": "b0234bed",
   "metadata": {},
   "outputs": [],
   "source": [
    "np.unique?"
   ]
  },
  {
   "cell_type": "code",
   "execution_count": 78,
   "id": "889830bf",
   "metadata": {},
   "outputs": [],
   "source": [
    "clf = RandomForestClassifier(max_depth=6,\n",
    "                             n_estimators = 400,\n",
    "                             random_state = 42)"
   ]
  },
  {
   "cell_type": "code",
   "execution_count": 79,
   "id": "6b7de3b3",
   "metadata": {},
   "outputs": [
    {
     "data": {
      "text/plain": [
       "RandomForestClassifier(max_depth=6, n_estimators=400, random_state=42)"
      ]
     },
     "execution_count": 79,
     "metadata": {},
     "output_type": "execute_result"
    }
   ],
   "source": [
    "clf.fit(X_train_balanced,y_train_balanced)"
   ]
  },
  {
   "cell_type": "code",
   "execution_count": 84,
   "id": "2687f412",
   "metadata": {},
   "outputs": [
    {
     "data": {
      "image/png": "[encoded data removed]",
      "text/plain": [
       "<Figure size 1080x360 with 2 Axes>"
      ]
     },
     "metadata": {},
     "output_type": "display_data"
    }
   ],
   "source": [
    "pred = clf.predict(X_test_balanced)\n",
    "cm = confusion_matrix(y_test_balanced,pred)\n",
    "cm_plot(cm)\n",
    "plt.savefig('smote_matrix.png')"
   ]
  }
 ],
 "metadata": {
  "kernelspec": {
   "display_name": "Python 3 (ipykernel)",
   "language": "python",
   "name": "python3"
  },
  "language_info": {
   "codemirror_mode": {
    "name": "ipython",
    "version": 3
   },
   "file_extension": ".py",
   "mimetype": "text/x-python",
   "name": "python",
   "nbconvert_exporter": "python",
   "pygments_lexer": "ipython3",
   "version": "3.9.7"
  }
 },
 "nbformat": 4,
 "nbformat_minor": 5
}
