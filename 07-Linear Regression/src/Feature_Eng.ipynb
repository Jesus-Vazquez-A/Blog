{
 "cells": [
  {
   "cell_type": "markdown",
   "id": "fe457663",
   "metadata": {},
   "source": [
    "## *Import Libraries*"
   ]
  },
  {
   "cell_type": "code",
   "execution_count": 1,
   "id": "eeed8c44",
   "metadata": {},
   "outputs": [],
   "source": [
    "import pandas as pd\n",
    "import numpy as np\n",
    "import matplotlib.pyplot as plt\n",
    "import warnings"
   ]
  },
  {
   "cell_type": "code",
   "execution_count": 2,
   "id": "53db24ee",
   "metadata": {},
   "outputs": [],
   "source": [
    "warnings.filterwarnings('ignore')"
   ]
  },
  {
   "cell_type": "markdown",
   "id": "75fa2f87",
   "metadata": {},
   "source": [
    "## *Load Data*"
   ]
  },
  {
   "cell_type": "code",
   "execution_count": 3,
   "id": "5cd53f21",
   "metadata": {},
   "outputs": [],
   "source": [
    "nissan = pd.read_csv('nissan.csv')"
   ]
  },
  {
   "cell_type": "code",
   "execution_count": 4,
   "id": "2009412b",
   "metadata": {},
   "outputs": [
    {
     "data": {
      "text/plain": [
       "price           0.000000\n",
       "year            0.000000\n",
       "manufacturer    0.000000\n",
       "model           0.000000\n",
       "condition       0.383796\n",
       "cylinders       0.354633\n",
       "fuel            0.000000\n",
       "odometer        0.000000\n",
       "title_status    0.000000\n",
       "transmission    0.000000\n",
       "drive           0.255798\n",
       "type            0.230417\n",
       "paint_color     0.272121\n",
       "dtype: float64"
      ]
     },
     "execution_count": 4,
     "metadata": {},
     "output_type": "execute_result"
    }
   ],
   "source": [
    "nissan.isnull().sum() / nissan.shape[0]"
   ]
  },
  {
   "cell_type": "markdown",
   "id": "9c14185c",
   "metadata": {},
   "source": [
    "### *Model Names*"
   ]
  },
  {
   "cell_type": "code",
   "execution_count": 5,
   "id": "4536d242",
   "metadata": {
    "scrolled": false
   },
   "outputs": [
    {
     "data": {
      "text/plain": [
       "array(['maxima', 'quest ', 'fronti', 'pathfi', 'xterra', 'altima',\n",
       "       'murano', 'sentra', 'f-150', '350z t', 'titan ', 'quest', 'versa ',\n",
       "       'armada', 'versa', 'rogue', 'rogue ', 'nv200 ', '4 door', 'centra',\n",
       "       'pickup', 'exterr', 'fromti', 'mvp lx', '350z', '350 z', 'maximu',\n",
       "       'titan', '350z c', '350z r', 'ud 150', 'maxim', 'ud', '350z -',\n",
       "       '350z e', 'also', 'morano', 'marano', 'alitma', '350z g', 'ud 180',\n",
       "       'armand', 'sltima', 'juke', 'juke s', '350z b', 'cube 1', 'cube s',\n",
       "       'cube', 'rouge ', '370z t', '370z', 'gtr pr', '370z n', 'rouge',\n",
       "       '370z r', 'z', '370z c', 'leaf', 'aerst', 'leaf s', 'feaf',\n",
       "       'juke f', 'senta', 'nv car', 'nv', 'juke 5', 'nv 250', 'nv2500',\n",
       "       'maxmia', 'ud2600', 'nv3500', 'gt-r', 'nv200', 'nv s 1', 'nv 350',\n",
       "       'nv 150', 'nv1500', 'nvp', 'murran', 'juke -', 'juke n', 'juke c',\n",
       "       'juke a', 'nv 200', 'roque', '370 z', 'nv pas', 'vn', 'note',\n",
       "       'pro 4x', 'gtr', 'mauran', 'altma', 'lifted', 'seentr', '2017 a',\n",
       "       'camry', 'kicks ', 'kicks', 'rogue+', 'cargo ', 'atlima', '200 nv',\n",
       "       '370z s', '370z w'], dtype=object)"
      ]
     },
     "execution_count": 5,
     "metadata": {},
     "output_type": "execute_result"
    }
   ],
   "source": [
    "nissan.model.unique()"
   ]
  },
  {
   "cell_type": "markdown",
   "id": "196dc1a0",
   "metadata": {},
   "source": [
    "It can be seen that the name of some models is misspelled, so it is necessary to write them correctly in addition to reducing the number of unique values."
   ]
  },
  {
   "cell_type": "markdown",
   "id": "6c50b75a",
   "metadata": {},
   "source": [
    "Badly written car models are still appreciated."
   ]
  },
  {
   "cell_type": "code",
   "execution_count": 6,
   "id": "b74957c6",
   "metadata": {},
   "outputs": [],
   "source": [
    "nissan = nissan.query('model!=\"f-150\"')"
   ]
  },
  {
   "cell_type": "markdown",
   "id": "3d55f045",
   "metadata": {},
   "source": [
    "Delete this car model as it does not belong to Nissan."
   ]
  },
  {
   "cell_type": "code",
   "execution_count": 7,
   "id": "c492629b",
   "metadata": {},
   "outputs": [],
   "source": [
    "sentra = ['centra','seentr','senta']\n",
    "altima = ['alitma','atilma','sltima','atlima','altma']\n",
    "maxima = ['maxmia','maxim','maximu','maxmia']"
   ]
  },
  {
   "cell_type": "code",
   "execution_count": 8,
   "id": "5c32ec9f",
   "metadata": {},
   "outputs": [],
   "source": [
    "nissan.model = np.where(nissan.model=='versa ','versa',nissan.model)\n",
    "nissan.model = nissan.apply(lambda x: 'sentra' if x.model in sentra else x.model,axis = 1)\n",
    "nissan.model = nissan.apply(lambda x: 'altima' if x.model in altima else x.model,axis = 1)\n",
    "nissan.model = nissan.apply(lambda x: 'maxima' if x.model in maxima else x.model,axis = 1)"
   ]
  },
  {
   "cell_type": "code",
   "execution_count": 9,
   "id": "c7d7337e",
   "metadata": {},
   "outputs": [],
   "source": [
    "murano = ['mauran','morano','marano','murran']\n",
    "rogue = ['rougue','rogue ','roque','rouge','rogue','rouge ','rogue+']"
   ]
  },
  {
   "cell_type": "code",
   "execution_count": 10,
   "id": "fde121da",
   "metadata": {},
   "outputs": [],
   "source": [
    "nissan.model = np.where(nissan.model=='pathfi','pathfinder',nissan.model)\n",
    "nissan.model = np.where(nissan.model=='exterr','x-trail',nissan.model)\n",
    "nissan.model = nissan.apply(lambda x: 'murano' if x.model in murano else x.model,axis = 1)\n",
    "nissan.model = nissan.apply(lambda x: 'rogue' if x.model in rogue else x.model,axis = 1)"
   ]
  },
  {
   "cell_type": "code",
   "execution_count": 11,
   "id": "a0bc0516",
   "metadata": {},
   "outputs": [],
   "source": [
    "_350z = ['350z t','350z c','350z r','350z n','350z z','350z g','350 z','350z b','350z e','350z -','350z c']\n",
    "_370z = ['370 z','370z c','370z n','370z r','370z t','370z s','370z w']\n",
    "gtr = ['gt-r','gtr pr']"
   ]
  },
  {
   "cell_type": "code",
   "execution_count": 12,
   "id": "30f75c12",
   "metadata": {},
   "outputs": [],
   "source": [
    "nissan.model = nissan.apply(lambda x: '350z' if x.model in _350z else x.model,axis = 1)\n",
    "nissan.model = nissan.apply(lambda x: '370z' if x.model in _370z else x.model,axis = 1)\n",
    "nissan.model = nissan.apply(lambda x: 'gtr' if x.model in gtr else x.model,axis = 1)"
   ]
  },
  {
   "cell_type": "code",
   "execution_count": 13,
   "id": "9cff181f",
   "metadata": {},
   "outputs": [],
   "source": [
    "juke = ['juke -','juke n','juke c','juke a','juke f','juke 5','juke s']\n",
    "cube = ['cube s','cube','cube 1']\n",
    "leaf = ['leaft','feaf','leaf s']"
   ]
  },
  {
   "cell_type": "code",
   "execution_count": 14,
   "id": "c8a0d849",
   "metadata": {},
   "outputs": [],
   "source": [
    "nissan.model = nissan.apply(lambda x: 'leaf' if x.model in leaf else x.model,axis = 1)\n",
    "nissan.model = nissan.apply(lambda x: 'juke' if x.model in juke else x.model,axis = 1)\n",
    "nissan.model = nissan.apply(lambda x: 'cube' if x.model in cube else x.model,axis = 1)"
   ]
  },
  {
   "cell_type": "code",
   "execution_count": 15,
   "id": "d430eca9",
   "metadata": {},
   "outputs": [],
   "source": [
    "frontier = ['fronti','fromti']"
   ]
  },
  {
   "cell_type": "code",
   "execution_count": 16,
   "id": "02219098",
   "metadata": {},
   "outputs": [],
   "source": [
    "nissan.model = nissan.apply(lambda x: 'frontier' if x.model in frontier else x.model,axis = 1)\n",
    "nissan.model = np.where(nissan.model=='armand','armada',nissan.model)\n",
    "nissan.model = np.where(nissan.model=='kicks ','kicks',nissan.model)\n",
    "nissan.model = np.where(nissan.model=='titan ','titan',nissan.model)\n",
    "nissan.model = np.where(nissan.model=='kicks ','kicks',nissan.model)\n",
    "nissan.model = np.where(nissan.model=='pickup','frontier',nissan.model)"
   ]
  },
  {
   "cell_type": "code",
   "execution_count": 17,
   "id": "fa4e4cea",
   "metadata": {},
   "outputs": [],
   "source": [
    "nissan = nissan.query('model!=\"2017 a\"  and model!=\"camry\" and model!=\"4 door\" and model!=\"also\"')\n",
    "nissan = nissan.query('model!=\"aerst\"')"
   ]
  },
  {
   "cell_type": "code",
   "execution_count": 18,
   "id": "d74866bb",
   "metadata": {},
   "outputs": [
    {
     "data": {
      "text/plain": [
       "array(['maxima', 'quest ', 'frontier', 'pathfinder', 'xterra', 'altima',\n",
       "       'murano', 'sentra', '350z', 'titan', 'quest', 'versa', 'armada',\n",
       "       'rogue', 'nv200 ', 'x-trail', 'mvp lx', 'ud 150', 'ud', 'ud 180',\n",
       "       'juke', 'cube', '370z', 'gtr', 'z', 'leaf', 'nv car', 'nv',\n",
       "       'nv 250', 'nv2500', 'ud2600', 'nv3500', 'nv200', 'nv s 1',\n",
       "       'nv 350', 'nv 150', 'nv1500', 'nvp', 'nv 200', 'nv pas', 'vn',\n",
       "       'note', 'pro 4x', 'lifted', 'kicks', 'cargo ', '200 nv'],\n",
       "      dtype=object)"
      ]
     },
     "execution_count": 18,
     "metadata": {},
     "output_type": "execute_result"
    }
   ],
   "source": [
    "nissan.model.unique()"
   ]
  },
  {
   "cell_type": "code",
   "execution_count": 19,
   "id": "46fc7519",
   "metadata": {},
   "outputs": [],
   "source": [
    "nissan['model'] = np.where(nissan['model']=='nv pass','nv passenger',nissan.model)\n",
    "nissan['model'] = np.where(nissan['model']=='nv car','nv',nissan.model)\n",
    "nissan.model = np.where(nissan.model==\"feaf\",'leaf',nissan.model)"
   ]
  },
  {
   "cell_type": "code",
   "execution_count": 20,
   "id": "26165fad",
   "metadata": {},
   "outputs": [],
   "source": [
    "nissan.model = np.where(nissan.model==\"200 nv\",\"nv200\",nissan.model)\n",
    "nissan.model = np.where(nissan.model==\"nv200 \",\"nv200\",nissan.model)\n",
    "nissan.model = np.where(nissan.model==\"quest \",\"quest\",nissan.model)\n",
    "nissan.model = np.where(nissan.model==\"nv s 1\",\"nv\",nissan.model)\n",
    "nissan.model = np.where(nissan.model==\"armada\",\"armand\",nissan.model)\n",
    "nissan.model = np.where(nissan.model==\"nvp\",\"nv\",nissan.model)\n",
    "nissan.model = np.where(nissan.model==\"nv pas\",\"nv\",nissan.model)\n",
    "nissan = nissan.query('model!=\"mvp lx\"')"
   ]
  },
  {
   "cell_type": "code",
   "execution_count": 21,
   "id": "0313bdcd",
   "metadata": {},
   "outputs": [],
   "source": [
    "nissan.model = np.where(nissan.model==\"nv 150\",\"nv150\",nissan.model)\n",
    "nissan.model = np.where(nissan.model==\"nv 200\",\"nv200\",nissan.model)\n",
    "nissan.model = np.where(nissan.model==\"nv 250\",\"nv250\",nissan.model)\n",
    "nissan.model = np.where(nissan.model==\"nv 350\",\"nv350\",nissan.model)\n",
    "nissan.model = np.where(nissan.model==\"cargo \",\"cargo\",nissan.model)"
   ]
  },
  {
   "cell_type": "markdown",
   "id": "1173a733",
   "metadata": {},
   "source": [
    "### *Type Body Car*"
   ]
  },
  {
   "cell_type": "code",
   "execution_count": 22,
   "id": "fe8e06c3",
   "metadata": {},
   "outputs": [],
   "source": [
    "coupe = ['350z','370z','z','gtr']\n",
    "sedan =  ['versa','sentra','altima','maxima']\n",
    "suv = ['murano','rogue','pathfinder','juke','kicks','extreme','armand','x-trail']"
   ]
  },
  {
   "cell_type": "code",
   "execution_count": 23,
   "id": "2bd91825",
   "metadata": {},
   "outputs": [],
   "source": [
    "nissan.type = nissan.apply(lambda x: 'coupe' if x.model in coupe else x.type,axis = 1)\n",
    "nissan.type = nissan.apply(lambda x: 'sedan' if x.model in sedan else x.type,axis = 1)\n",
    "nissan.type = nissan.apply(lambda x: 'SUV' if x.model in suv else x.type,axis = 1)"
   ]
  },
  {
   "cell_type": "code",
   "execution_count": 24,
   "id": "c034fb7b",
   "metadata": {},
   "outputs": [],
   "source": [
    "mini_van =  ['cube','quest']\n",
    "offroad = ['xterra','lifted']\n",
    "pickup = ['frontier','titan','pro 4x']"
   ]
  },
  {
   "cell_type": "code",
   "execution_count": 25,
   "id": "e035ebae",
   "metadata": {},
   "outputs": [],
   "source": [
    "nissan.type = nissan.apply(lambda x: 'coupe' if x.model in coupe else x.type,axis = 1)\n",
    "nissan.type = nissan.apply(lambda x: 'sedan' if x.model in sedan else x.type,axis = 1)\n",
    "nissan.type = nissan.apply(lambda x: 'SUV' if x.model in suv else x.type,axis = 1)"
   ]
  },
  {
   "cell_type": "code",
   "execution_count": 26,
   "id": "493222d9",
   "metadata": {},
   "outputs": [],
   "source": [
    "pickup = ['frontier','titan','pro 4x']\n",
    "hatchback = ['note','leaf']"
   ]
  },
  {
   "cell_type": "code",
   "execution_count": 27,
   "id": "deef5a56",
   "metadata": {},
   "outputs": [],
   "source": [
    "nissan.type = nissan.apply(lambda x: 'pickup' if x.model in pickup else x.type,axis = 1)\n",
    "nissan.type = nissan.apply(lambda x: 'hatchback' if x.model in hatchback else x.type,axis = 1)"
   ]
  },
  {
   "cell_type": "code",
   "execution_count": 28,
   "id": "d6d617b8",
   "metadata": {},
   "outputs": [],
   "source": [
    "van = ['nv','nv150','nv200','nv250','nv350','nv1500','nv2500','nv 3500','vn','cargo']\n",
    "bus =  ['ud','ud 150','ud 180','ud 3500']\n",
    "mini_van = ['cube','quest']"
   ]
  },
  {
   "cell_type": "code",
   "execution_count": 29,
   "id": "05fd2dc6",
   "metadata": {},
   "outputs": [],
   "source": [
    "nissan.type = nissan.apply(lambda x: 'mini-van' if x.model in mini_van else x.type,axis = 1)\n",
    "nissan.type = nissan.apply(lambda x: 'van' if x.model in van else x.type,axis = 1)\n",
    "nissan.type = nissan.apply(lambda x: 'bus' if x.model in bus else x.type,axis = 1)"
   ]
  },
  {
   "cell_type": "markdown",
   "id": "a967edf9",
   "metadata": {},
   "source": [
    "### *Transmission*"
   ]
  },
  {
   "cell_type": "code",
   "execution_count": 30,
   "id": "72728ce7",
   "metadata": {},
   "outputs": [],
   "source": [
    "nissan.transmission = np.where(nissan.transmission==\"other\",\n",
    "                               \"automatic\",\n",
    "                               nissan.transmission)"
   ]
  },
  {
   "cell_type": "markdown",
   "id": "29cf4f53",
   "metadata": {},
   "source": [
    "We will treat the \"other\" category as lost value since it does not provide useful information, we will replace it with an automatic transmission type because most of the cars in the United States have this type of gearbox."
   ]
  },
  {
   "cell_type": "markdown",
   "id": "2c5a7c5c",
   "metadata": {},
   "source": [
    "## *Fuel*"
   ]
  },
  {
   "cell_type": "code",
   "execution_count": 31,
   "id": "446dbf5b",
   "metadata": {},
   "outputs": [],
   "source": [
    "nissan.fuel = np.where(nissan.fuel==\"other\",\n",
    "                               \"gas\",\n",
    "                               nissan.fuel)"
   ]
  },
  {
   "cell_type": "markdown",
   "id": "375c5791",
   "metadata": {},
   "source": [
    "We carry out a process similar to the previous one."
   ]
  },
  {
   "cell_type": "markdown",
   "id": "62892804",
   "metadata": {},
   "source": [
    "## *Cylinders*"
   ]
  },
  {
   "cell_type": "code",
   "execution_count": 32,
   "id": "c726aaa7",
   "metadata": {},
   "outputs": [],
   "source": [
    "nissan.cylinders = np.where(nissan.fuel==\"electric\",0,nissan.cylinders)"
   ]
  },
  {
   "cell_type": "markdown",
   "id": "2ebe7ba4",
   "metadata": {},
   "source": [
    "## *Color*"
   ]
  },
  {
   "cell_type": "code",
   "execution_count": 33,
   "id": "fc12c6e9",
   "metadata": {},
   "outputs": [],
   "source": [
    "nissan_color_null = nissan[nissan.paint_color.isnull()]\n",
    "nissan = nissan.dropna(subset=['paint_color'])"
   ]
  },
  {
   "cell_type": "code",
   "execution_count": 34,
   "id": "bd527993",
   "metadata": {},
   "outputs": [
    {
     "data": {
      "text/plain": [
       "black     1530\n",
       "white     1453\n",
       "silver    1365\n",
       "grey      1055\n",
       "blue       693\n",
       "Name: paint_color, dtype: int64"
      ]
     },
     "execution_count": 34,
     "metadata": {},
     "output_type": "execute_result"
    }
   ],
   "source": [
    "nissan.paint_color.value_counts()[:5]"
   ]
  },
  {
   "cell_type": "code",
   "execution_count": 35,
   "id": "d9ebc1bd",
   "metadata": {},
   "outputs": [
    {
     "data": {
      "text/plain": [
       "2700"
      ]
     },
     "execution_count": 35,
     "metadata": {},
     "output_type": "execute_result"
    }
   ],
   "source": [
    "nissan_color_null.shape[0]"
   ]
  },
  {
   "cell_type": "code",
   "execution_count": 36,
   "id": "3d036654",
   "metadata": {},
   "outputs": [],
   "source": [
    "nissan_color_null['paint_color'] = np.random.choice(['black','white',\n",
    "                                                     'silver','grey',\n",
    "                                                     'blue'],\n",
    "                                                     nissan_color_null.shape[0])"
   ]
  },
  {
   "cell_type": "markdown",
   "id": "ea9f054f",
   "metadata": {},
   "source": [
    "In this variable we replace the missing values by the 5 most common colors, for this we will use the np.random.choice() function, which will receive the list of colors as well as the dimension as a parameter."
   ]
  },
  {
   "cell_type": "code",
   "execution_count": 37,
   "id": "7f4c8b71",
   "metadata": {},
   "outputs": [],
   "source": [
    "nissan = pd.concat([nissan,nissan_color_null])"
   ]
  },
  {
   "cell_type": "markdown",
   "id": "d4f34c56",
   "metadata": {},
   "source": [
    "## *Type Body*"
   ]
  },
  {
   "cell_type": "code",
   "execution_count": 38,
   "id": "d424a5aa",
   "metadata": {},
   "outputs": [],
   "source": [
    "sedan = nissan.query('type == \"sedan\"') #\n",
    "suv = nissan.query('type == \"SUV\"') #\n",
    "coupe = nissan.query('type == \"coupe\"') #\n",
    "pickup = nissan.query('type == \"pickup\"') #\n",
    "offroad = nissan.query('type == \"offroad\"') #\n",
    "hatchback = nissan.query('type == \"hatchback\"') #"
   ]
  },
  {
   "cell_type": "markdown",
   "id": "242ed74b",
   "metadata": {},
   "source": [
    "We create several subsets where we divide the data based on the type of car body."
   ]
  },
  {
   "cell_type": "markdown",
   "id": "1d121ad2",
   "metadata": {},
   "source": [
    "## *Sedan*"
   ]
  },
  {
   "cell_type": "markdown",
   "id": "71b29c91",
   "metadata": {},
   "source": [
    "## *Tida*"
   ]
  },
  {
   "cell_type": "code",
   "execution_count": 39,
   "id": "81851e3e",
   "metadata": {},
   "outputs": [],
   "source": [
    "tida = sedan.query('model==\"versa\" and year<=2011')\n",
    "tida['model'] = \"tida\""
   ]
  },
  {
   "cell_type": "markdown",
   "id": "c67394f0",
   "metadata": {},
   "source": [
    "In Versa models with a manufacturing date prior to 2011, in some markets they call it Nissan Tida."
   ]
  },
  {
   "cell_type": "markdown",
   "id": "89844dab",
   "metadata": {},
   "source": [
    "#### *Transmission*"
   ]
  },
  {
   "cell_type": "code",
   "execution_count": 40,
   "id": "c0708613",
   "metadata": {},
   "outputs": [
    {
     "data": {
      "text/plain": [
       "array(['automatic', 'manual'], dtype=object)"
      ]
     },
     "execution_count": 40,
     "metadata": {},
     "output_type": "execute_result"
    }
   ],
   "source": [
    "tida.transmission.unique()"
   ]
  },
  {
   "cell_type": "markdown",
   "id": "c691a813",
   "metadata": {},
   "source": [
    "#### *Fuel*\n"
   ]
  },
  {
   "cell_type": "code",
   "execution_count": 41,
   "id": "421ae495",
   "metadata": {},
   "outputs": [
    {
     "data": {
      "text/plain": [
       "array(['gas'], dtype=object)"
      ]
     },
     "execution_count": 41,
     "metadata": {},
     "output_type": "execute_result"
    }
   ],
   "source": [
    "tida.fuel.unique()"
   ]
  },
  {
   "cell_type": "markdown",
   "id": "9abf824b",
   "metadata": {},
   "source": [
    "#### *Cylinders*"
   ]
  },
  {
   "cell_type": "code",
   "execution_count": 42,
   "id": "f1b5e924",
   "metadata": {},
   "outputs": [],
   "source": [
    "tida.cylinders = np.where(tida.cylinders!=4,4,tida.cylinders)"
   ]
  },
  {
   "cell_type": "markdown",
   "id": "ddf6d40f",
   "metadata": {},
   "source": [
    "### *Year*"
   ]
  },
  {
   "cell_type": "code",
   "execution_count": 43,
   "id": "250fbb84",
   "metadata": {},
   "outputs": [],
   "source": [
    "tida.year = np.where(tida.year<2006,2006,tida.year)"
   ]
  },
  {
   "cell_type": "markdown",
   "id": "8f977048",
   "metadata": {},
   "source": [
    "Nissan Versa models with a year of manufacture less than or equal to the year 2011 belong to Nissan Tida models"
   ]
  },
  {
   "cell_type": "code",
   "execution_count": 44,
   "id": "e9a30139",
   "metadata": {},
   "outputs": [
    {
     "data": {
      "text/plain": [
       "array(['gas'], dtype=object)"
      ]
     },
     "execution_count": 44,
     "metadata": {},
     "output_type": "execute_result"
    }
   ],
   "source": [
    "tida.fuel.unique()"
   ]
  },
  {
   "cell_type": "markdown",
   "id": "b8b0972c",
   "metadata": {},
   "source": [
    "#### *Engine Size*"
   ]
  },
  {
   "cell_type": "code",
   "execution_count": 45,
   "id": "6bed1f89",
   "metadata": {},
   "outputs": [],
   "source": [
    "tida['engine_size'] = 1.8"
   ]
  },
  {
   "cell_type": "markdown",
   "id": "8d1d3f3c",
   "metadata": {},
   "source": [
    "#### *Horsepower*"
   ]
  },
  {
   "cell_type": "code",
   "execution_count": 46,
   "id": "73c9b44a",
   "metadata": {},
   "outputs": [],
   "source": [
    "tida['hp'] = 124"
   ]
  },
  {
   "cell_type": "markdown",
   "id": "3caac75c",
   "metadata": {},
   "source": [
    "## *Versa*"
   ]
  },
  {
   "cell_type": "code",
   "execution_count": 47,
   "id": "0a218555",
   "metadata": {},
   "outputs": [],
   "source": [
    "versa = sedan.query('model==\"versa\"')"
   ]
  },
  {
   "cell_type": "markdown",
   "id": "de99dfde",
   "metadata": {},
   "source": [
    "#### *Transmission*"
   ]
  },
  {
   "cell_type": "code",
   "execution_count": 48,
   "id": "ad44be4f",
   "metadata": {},
   "outputs": [
    {
     "data": {
      "text/plain": [
       "array(['automatic', 'manual'], dtype=object)"
      ]
     },
     "execution_count": 48,
     "metadata": {},
     "output_type": "execute_result"
    }
   ],
   "source": [
    "versa.transmission.unique()"
   ]
  },
  {
   "cell_type": "markdown",
   "id": "b44b1a91",
   "metadata": {},
   "source": [
    "#### *Cylinders*"
   ]
  },
  {
   "cell_type": "code",
   "execution_count": 49,
   "id": "dd77d1ed",
   "metadata": {},
   "outputs": [
    {
     "data": {
      "text/plain": [
       "array([ 4., nan,  3.,  6.,  0.])"
      ]
     },
     "execution_count": 49,
     "metadata": {},
     "output_type": "execute_result"
    }
   ],
   "source": [
    "versa.cylinders.unique()"
   ]
  },
  {
   "cell_type": "code",
   "execution_count": 50,
   "id": "e756411c",
   "metadata": {},
   "outputs": [],
   "source": [
    "versa.cylinders = np.where(versa.cylinders!=4,4,versa.cylinders)"
   ]
  },
  {
   "cell_type": "code",
   "execution_count": 51,
   "id": "416b025b",
   "metadata": {},
   "outputs": [
    {
     "data": {
      "text/plain": [
       "array([4.])"
      ]
     },
     "execution_count": 51,
     "metadata": {},
     "output_type": "execute_result"
    }
   ],
   "source": [
    "versa.cylinders.unique()"
   ]
  },
  {
   "cell_type": "markdown",
   "id": "29f528b8",
   "metadata": {},
   "source": [
    "#### *Fuel*"
   ]
  },
  {
   "cell_type": "code",
   "execution_count": 52,
   "id": "789f5e85",
   "metadata": {},
   "outputs": [
    {
     "data": {
      "text/plain": [
       "array(['gas', 'diesel', 'electric'], dtype=object)"
      ]
     },
     "execution_count": 52,
     "metadata": {},
     "output_type": "execute_result"
    }
   ],
   "source": [
    "versa.fuel.unique()"
   ]
  },
  {
   "cell_type": "code",
   "execution_count": 53,
   "id": "249c863b",
   "metadata": {},
   "outputs": [],
   "source": [
    "versa.fuel = np.where(versa.fuel!=\"gas\",\"gas\",versa.fuel)"
   ]
  },
  {
   "cell_type": "code",
   "execution_count": 54,
   "id": "dc6e5f20",
   "metadata": {},
   "outputs": [
    {
     "data": {
      "text/plain": [
       "array(['gas'], dtype=object)"
      ]
     },
     "execution_count": 54,
     "metadata": {},
     "output_type": "execute_result"
    }
   ],
   "source": [
    "versa.fuel.unique()"
   ]
  },
  {
   "cell_type": "markdown",
   "id": "cc34294a",
   "metadata": {},
   "source": [
    "### *Year*"
   ]
  },
  {
   "cell_type": "code",
   "execution_count": 55,
   "id": "25e5e899",
   "metadata": {},
   "outputs": [],
   "source": [
    "versa = versa.query('year>2011')"
   ]
  },
  {
   "cell_type": "markdown",
   "id": "2d43079e",
   "metadata": {},
   "source": [
    "#### *Engine Size*"
   ]
  },
  {
   "cell_type": "code",
   "execution_count": 56,
   "id": "f5ead8cf",
   "metadata": {},
   "outputs": [],
   "source": [
    "versa['engine_size'] = 1.6"
   ]
  },
  {
   "cell_type": "markdown",
   "id": "de3a68fb",
   "metadata": {},
   "source": [
    "#### *Horsepower*"
   ]
  },
  {
   "cell_type": "code",
   "execution_count": 57,
   "id": "59e480f6",
   "metadata": {},
   "outputs": [],
   "source": [
    "filters = [\n",
    "    (versa.year<=2017),\n",
    "    (versa.year>2017) & (versa.year<=2019),\n",
    "    (versa.year>2019)\n",
    "]\n",
    "\n",
    "hp= [107,109,122]\n",
    "versa['hp'] = np.select(filters,hp)"
   ]
  },
  {
   "cell_type": "code",
   "execution_count": 58,
   "id": "56816f60",
   "metadata": {},
   "outputs": [],
   "source": [
    "max_price = versa.price.max()\n",
    "versa = versa.query('price<@max_price')"
   ]
  },
  {
   "cell_type": "markdown",
   "id": "6fdc5b3c",
   "metadata": {},
   "source": [
    "### *Sentra*"
   ]
  },
  {
   "cell_type": "code",
   "execution_count": 59,
   "id": "20a46c6f",
   "metadata": {},
   "outputs": [],
   "source": [
    "sentra = sedan.query('model==\"sentra\"')"
   ]
  },
  {
   "cell_type": "markdown",
   "id": "de74477a",
   "metadata": {},
   "source": [
    "### *Fuel*"
   ]
  },
  {
   "cell_type": "code",
   "execution_count": 60,
   "id": "bde31667",
   "metadata": {},
   "outputs": [
    {
     "data": {
      "text/plain": [
       "array(['gas', 'diesel'], dtype=object)"
      ]
     },
     "execution_count": 60,
     "metadata": {},
     "output_type": "execute_result"
    }
   ],
   "source": [
    "sentra.fuel.unique()"
   ]
  },
  {
   "cell_type": "code",
   "execution_count": 61,
   "id": "2f102d37",
   "metadata": {},
   "outputs": [],
   "source": [
    "sentra.fuel = np.where(sentra.fuel!=\"gas\",\"gas\",sentra.fuel)"
   ]
  },
  {
   "cell_type": "code",
   "execution_count": 62,
   "id": "f1e25af4",
   "metadata": {},
   "outputs": [
    {
     "data": {
      "text/plain": [
       "array(['gas'], dtype=object)"
      ]
     },
     "execution_count": 62,
     "metadata": {},
     "output_type": "execute_result"
    }
   ],
   "source": [
    "sentra.fuel.unique()"
   ]
  },
  {
   "cell_type": "markdown",
   "id": "37f5b306",
   "metadata": {},
   "source": [
    "#### *Transmission*"
   ]
  },
  {
   "cell_type": "code",
   "execution_count": 63,
   "id": "50176517",
   "metadata": {},
   "outputs": [
    {
     "data": {
      "text/plain": [
       "array(['automatic', 'manual'], dtype=object)"
      ]
     },
     "execution_count": 63,
     "metadata": {},
     "output_type": "execute_result"
    }
   ],
   "source": [
    "sentra.transmission.unique()"
   ]
  },
  {
   "cell_type": "markdown",
   "id": "c3d7ec67",
   "metadata": {},
   "source": [
    "#### *Cylinders*"
   ]
  },
  {
   "cell_type": "code",
   "execution_count": 64,
   "id": "402d5b35",
   "metadata": {},
   "outputs": [
    {
     "data": {
      "text/plain": [
       "array([ 4., nan,  6.])"
      ]
     },
     "execution_count": 64,
     "metadata": {},
     "output_type": "execute_result"
    }
   ],
   "source": [
    "sentra.cylinders.unique()"
   ]
  },
  {
   "cell_type": "code",
   "execution_count": 65,
   "id": "72355f23",
   "metadata": {},
   "outputs": [],
   "source": [
    "sentra.cylinders = np.where(sentra.cylinders!=4,4,sentra.cylinders)"
   ]
  },
  {
   "cell_type": "code",
   "execution_count": 66,
   "id": "345225db",
   "metadata": {},
   "outputs": [
    {
     "data": {
      "text/plain": [
       "array([4.])"
      ]
     },
     "execution_count": 66,
     "metadata": {},
     "output_type": "execute_result"
    }
   ],
   "source": [
    "sentra.cylinders.unique()"
   ]
  },
  {
   "cell_type": "markdown",
   "id": "eb40954e",
   "metadata": {},
   "source": [
    "#### *Engine Size*"
   ]
  },
  {
   "cell_type": "code",
   "execution_count": 67,
   "id": "618aad4b",
   "metadata": {},
   "outputs": [],
   "source": [
    "filters = [\n",
    "    (sentra.year<=2006),\n",
    "    (sentra.year>2006) & (sentra.year<=2012),\n",
    "    (sentra.year>2012) & (sentra.year<=2019),\n",
    "    (sentra.year>=2020)\n",
    "]\n",
    "\n",
    "engine = [1.8,2.0,1.8,2.0]\n",
    "sentra['engine_size'] = np.select(filters,engine)"
   ]
  },
  {
   "cell_type": "markdown",
   "id": "12bebd97",
   "metadata": {},
   "source": [
    "#### *Horsepower*"
   ]
  },
  {
   "cell_type": "code",
   "execution_count": 68,
   "id": "44a0bab1",
   "metadata": {},
   "outputs": [],
   "source": [
    "filters = [\n",
    "  (sentra.year<=2006),\n",
    "    (sentra.year>=2007) & (sentra.year<=2012),\n",
    "    (sentra.year>=2013) & (sentra.year<=2019),\n",
    "    (sentra.year>=2020)\n",
    "]\n",
    "hp = [129,140,130,145]\n",
    "sentra['hp'] = np.select(filters,hp)"
   ]
  },
  {
   "cell_type": "markdown",
   "id": "911c4278",
   "metadata": {},
   "source": [
    "### *Altima*"
   ]
  },
  {
   "cell_type": "code",
   "execution_count": 69,
   "id": "8d40dea4",
   "metadata": {},
   "outputs": [],
   "source": [
    "altima = sedan.query('model==\"altima\"')"
   ]
  },
  {
   "cell_type": "markdown",
   "id": "c35a245d",
   "metadata": {},
   "source": [
    "#### *Fuel*"
   ]
  },
  {
   "cell_type": "code",
   "execution_count": 70,
   "id": "0a8adfbb",
   "metadata": {},
   "outputs": [
    {
     "data": {
      "text/plain": [
       "array(['gas', 'electric', 'hybrid'], dtype=object)"
      ]
     },
     "execution_count": 70,
     "metadata": {},
     "output_type": "execute_result"
    }
   ],
   "source": [
    "altima.fuel.unique()"
   ]
  },
  {
   "cell_type": "markdown",
   "id": "79d5bdb1",
   "metadata": {},
   "source": [
    "#### *Cylinders*"
   ]
  },
  {
   "cell_type": "code",
   "execution_count": 71,
   "id": "82a8781e",
   "metadata": {},
   "outputs": [],
   "source": [
    "condition = (altima.year>=2019) & (altima.cylinders==6)\n",
    "altima.cylinders = np.where(condition,4,altima.cylinders)"
   ]
  },
  {
   "cell_type": "markdown",
   "id": "60d09985",
   "metadata": {},
   "source": [
    "Starting in 2019, Nissan changed the iconic V6 engine for its most advanced version, now instead of having 6 cylinders it will have 4."
   ]
  },
  {
   "cell_type": "code",
   "execution_count": 72,
   "id": "480917b3",
   "metadata": {},
   "outputs": [],
   "source": [
    "altima.cylinders.fillna(6,inplace = True)"
   ]
  },
  {
   "cell_type": "code",
   "execution_count": 73,
   "id": "455b5eed",
   "metadata": {},
   "outputs": [],
   "source": [
    "filters = [\n",
    "    (altima.fuel==\"electric\"),\n",
    "    (altima.cylinders>=1) & (altima.cylinders<=4),\n",
    "    (altima.cylinders>=5)\n",
    "]\n",
    "\n",
    "cyl = [0,4,6]\n",
    "altima.cylinders = np.select(filters,cyl)"
   ]
  },
  {
   "cell_type": "code",
   "execution_count": 74,
   "id": "ee1063cd",
   "metadata": {},
   "outputs": [
    {
     "data": {
      "text/plain": [
       "array([6, 4, 0])"
      ]
     },
     "execution_count": 74,
     "metadata": {},
     "output_type": "execute_result"
    }
   ],
   "source": [
    "altima.cylinders.unique()"
   ]
  },
  {
   "cell_type": "markdown",
   "id": "fdf36a30",
   "metadata": {},
   "source": [
    "We corrected the number of cylinders."
   ]
  },
  {
   "cell_type": "markdown",
   "id": "ad2d82a8",
   "metadata": {},
   "source": [
    "#### *EngineSize*"
   ]
  },
  {
   "cell_type": "code",
   "execution_count": 75,
   "id": "2383ec68",
   "metadata": {},
   "outputs": [],
   "source": [
    "filters = [\n",
    "    (altima.year<=2001),\n",
    "(altima.year>2001) & (altima.year<=2012) & (altima.cylinders==4),\n",
    "(altima.year>2001) & (altima.year<=2012) & (altima.cylinders==6),\n",
    "(altima.year>2012) & (altima.year<=2018) & (altima.cylinders==4),\n",
    "(altima.year>2012) & (altima.year<=2018) & (altima.cylinders==6),\n",
    "(altima.fuel==\"electric\")\n",
    "]\n",
    "engine= [2.4,2.5,3.5,2.5,3.5,0]\n",
    "altima['engine_size'] = np.select(filters,engine)"
   ]
  },
  {
   "cell_type": "code",
   "execution_count": 76,
   "id": "486144aa",
   "metadata": {},
   "outputs": [],
   "source": [
    "outlier = altima.query('engine_size==0')\n",
    "clear = altima.query('engine_size!=0')"
   ]
  },
  {
   "cell_type": "code",
   "execution_count": 77,
   "id": "1155aabe",
   "metadata": {},
   "outputs": [],
   "source": [
    "outlier['engine_size'] = np.where(outlier.price>=23000,2.0,2.5)"
   ]
  },
  {
   "cell_type": "code",
   "execution_count": 78,
   "id": "2556d353",
   "metadata": {},
   "outputs": [],
   "source": [
    "altima = pd.concat([outlier,clear])"
   ]
  },
  {
   "cell_type": "code",
   "execution_count": 79,
   "id": "65e32963",
   "metadata": {},
   "outputs": [],
   "source": [
    "altima.engine_size = np.where(altima.fuel==\"electric\",0,altima.engine_size)"
   ]
  },
  {
   "cell_type": "markdown",
   "id": "4c81d1a1",
   "metadata": {},
   "source": [
    "#### *Horsepower*"
   ]
  },
  {
   "cell_type": "code",
   "execution_count": 80,
   "id": "77fb8187",
   "metadata": {},
   "outputs": [],
   "source": [
    "filters = [\n",
    " (altima.engine_size==2.4),\n",
    "((altima.year>2001)) & ((altima.year<=2006)) & ((altima.cylinders==4)),\n",
    "((altima.year>2001)) & ((altima.year<=2006)) & ((altima.cylinders==6)),\n",
    "((altima.year>=2007)) & ((altima.year<=2012)) & ((altima.cylinders==4)),\n",
    "((altima.year>=2007)) & ((altima.year<=2012)) & ((altima.cylinders==6)),\n",
    "((altima.year>=2013)) & ((altima.year<=2018)) & ((altima.cylinders==4)),\n",
    "((altima.year>=2013)) & ((altima.year<=2018)) & ((altima.cylinders==6)),\n",
    "((altima.year>=2019)) & ((altima.engine_size==2.5)),\n",
    "((altima.year>=2019)) & ((altima.engine_size==2.0))\n",
    "]\n",
    "\n",
    "hp = [155,175,248,177,270,181,270,181,248]\n",
    "altima['hp'] = np.select(filters,hp)"
   ]
  },
  {
   "cell_type": "markdown",
   "id": "c5a91884",
   "metadata": {},
   "source": [
    "### *Maxima*"
   ]
  },
  {
   "cell_type": "code",
   "execution_count": 81,
   "id": "dd952df3",
   "metadata": {},
   "outputs": [],
   "source": [
    "maxima = sedan.query('model==\"maxima\"')"
   ]
  },
  {
   "cell_type": "markdown",
   "id": "079dc3ab",
   "metadata": {},
   "source": [
    "#### *Fuel*"
   ]
  },
  {
   "cell_type": "code",
   "execution_count": 82,
   "id": "f81466f4",
   "metadata": {},
   "outputs": [],
   "source": [
    "maxima.fuel = np.where(maxima.fuel!=\"gas\",\"gas\",maxima.fuel)"
   ]
  },
  {
   "cell_type": "markdown",
   "id": "35082e9e",
   "metadata": {},
   "source": [
    "#### *Cylinders*"
   ]
  },
  {
   "cell_type": "code",
   "execution_count": 83,
   "id": "426dd1ce",
   "metadata": {},
   "outputs": [],
   "source": [
    "maxima.cylinders = np.where(maxima.cylinders!=6,6,maxima.cylinders)"
   ]
  },
  {
   "cell_type": "markdown",
   "id": "ff47841f",
   "metadata": {},
   "source": [
    "#### *Engine Size*"
   ]
  },
  {
   "cell_type": "code",
   "execution_count": 84,
   "id": "c6e8804d",
   "metadata": {},
   "outputs": [],
   "source": [
    "maxima['engine_size'] = np.where(maxima.year<=2001,3.0,3.5)"
   ]
  },
  {
   "cell_type": "markdown",
   "id": "500d2484",
   "metadata": {},
   "source": [
    "#### *Horsepower*"
   ]
  },
  {
   "cell_type": "code",
   "execution_count": 85,
   "id": "62e9cbc9",
   "metadata": {},
   "outputs": [],
   "source": [
    "filters = [\n",
    "    (maxima.year<=2003),\n",
    "    (maxima.year>=2004) & (maxima.year<=2008),\n",
    "    (maxima.year>=2009) & (maxima.year<=2015),\n",
    "    (maxima.year>=2016)\n",
    "   \n",
    "]\n",
    "hp = [222,255,290,300]\n",
    "maxima['hp'] = np.select(filters,hp)"
   ]
  },
  {
   "cell_type": "code",
   "execution_count": 86,
   "id": "59841cb1",
   "metadata": {},
   "outputs": [],
   "source": [
    "sedan = pd.concat([tida,versa,sentra,altima,maxima])"
   ]
  },
  {
   "cell_type": "markdown",
   "id": "c27535bd",
   "metadata": {},
   "source": [
    "## *SUV*"
   ]
  },
  {
   "cell_type": "code",
   "execution_count": 87,
   "id": "dfa96791",
   "metadata": {},
   "outputs": [
    {
     "data": {
      "text/plain": [
       "array(['pathfinder', 'xterra', 'murano', 'armand', 'rogue', 'x-trail',\n",
       "       'juke', 'kicks'], dtype=object)"
      ]
     },
     "execution_count": 87,
     "metadata": {},
     "output_type": "execute_result"
    }
   ],
   "source": [
    "suv.model.unique()"
   ]
  },
  {
   "cell_type": "markdown",
   "id": "703aa911",
   "metadata": {},
   "source": [
    "### *Pathfinder*"
   ]
  },
  {
   "cell_type": "code",
   "execution_count": 88,
   "id": "f0ef0457",
   "metadata": {},
   "outputs": [],
   "source": [
    "pathfinder = suv.query('model==\"pathfinder\"')"
   ]
  },
  {
   "cell_type": "markdown",
   "id": "1fbede10",
   "metadata": {},
   "source": [
    "#### *Cylinders*"
   ]
  },
  {
   "cell_type": "code",
   "execution_count": 89,
   "id": "9ff22c35",
   "metadata": {},
   "outputs": [],
   "source": [
    "pathfinder.cylinders.fillna(6,inplace = True)\n",
    "\n",
    "pathfinder.cylinders = np.where(pathfinder.fuel==\"hybrid\",\n",
    "                                4,\n",
    "                                pathfinder.cylinders)\n",
    "\n",
    "pathfinder = pathfinder.query('cylinders==6 or cylinders==8')"
   ]
  },
  {
   "cell_type": "markdown",
   "id": "e9008317",
   "metadata": {},
   "source": [
    "#### *Engine Size*"
   ]
  },
  {
   "cell_type": "code",
   "execution_count": 90,
   "id": "217524d2",
   "metadata": {},
   "outputs": [],
   "source": [
    "filters = [\n",
    "    \n",
    "    (pathfinder.year>=2000) & (pathfinder.year<=2004),\n",
    "    (pathfinder.cylinders==4),\n",
    "    (pathfinder.cylinders==8),\n",
    "    (pathfinder.year>=2005) & (pathfinder.year<=2012),\n",
    "    (pathfinder.year>=2013)\n",
    "\n",
    "]\n",
    "\n",
    "engine = [3.5,2.5,5.6,4.0,3.5]\n",
    "\n",
    "pathfinder['engine_size'] = np.select(filters,engine)"
   ]
  },
  {
   "cell_type": "markdown",
   "id": "d2e120f6",
   "metadata": {},
   "source": [
    "#### *Horsepower*"
   ]
  },
  {
   "cell_type": "code",
   "execution_count": 91,
   "id": "883292b0",
   "metadata": {},
   "outputs": [],
   "source": [
    "filters = [\n",
    "    \n",
    "    (pathfinder.year>=2000) & (pathfinder.year<=2004),\n",
    "    (pathfinder.engine_size==2.5),\n",
    "    (pathfinder.engine_size==5.6),\n",
    "    (pathfinder.engine_size==4.0),\n",
    "    (pathfinder.year>=2013) & (pathfinder.year<=2016),\n",
    "    (pathfinder.year>=2017)\n",
    "    \n",
    "]\n",
    "\n",
    "hp = [240,260,310,288,260,284]\n",
    "pathfinder['hp'] = np.select(filters,hp)"
   ]
  },
  {
   "cell_type": "markdown",
   "id": "b2772c4c",
   "metadata": {},
   "source": [
    "### *Murano*"
   ]
  },
  {
   "cell_type": "code",
   "execution_count": 92,
   "id": "c5d50089",
   "metadata": {},
   "outputs": [],
   "source": [
    "murano = suv.query('model==\"murano\"')"
   ]
  },
  {
   "cell_type": "markdown",
   "id": "1578be8e",
   "metadata": {},
   "source": [
    "#### *Cylinders*"
   ]
  },
  {
   "cell_type": "code",
   "execution_count": 93,
   "id": "bcb4815b",
   "metadata": {},
   "outputs": [],
   "source": [
    "murano.cylinders.fillna(6,inplace = True)\n",
    "murano.cylinders = np.where(murano.cylinders==8,\n",
    "                            6,\n",
    "                            murano.cylinders)"
   ]
  },
  {
   "cell_type": "code",
   "execution_count": 94,
   "id": "87d2b6d4",
   "metadata": {},
   "outputs": [],
   "source": [
    "hybird = murano.query('fuel==\"hybrid\" and cylinders!=6')\n",
    "gas = murano.query('fuel!=\"hybrid\"')"
   ]
  },
  {
   "cell_type": "markdown",
   "id": "f9ed3523",
   "metadata": {},
   "source": [
    "#### *Engine Size*"
   ]
  },
  {
   "cell_type": "code",
   "execution_count": 95,
   "id": "d70e9a26",
   "metadata": {},
   "outputs": [],
   "source": [
    "hybird['engine_size'] = 2.5\n",
    "gas['engine_size'] = 3.5"
   ]
  },
  {
   "cell_type": "markdown",
   "id": "256a17f9",
   "metadata": {},
   "source": [
    "#### *Horsepower*"
   ]
  },
  {
   "cell_type": "code",
   "execution_count": 96,
   "id": "76b090d6",
   "metadata": {},
   "outputs": [],
   "source": [
    "hybird['hp'] = 246"
   ]
  },
  {
   "cell_type": "code",
   "execution_count": 97,
   "id": "8e7a6ed4",
   "metadata": {},
   "outputs": [
    {
     "data": {
      "text/plain": [
       "min    2003.0\n",
       "max    2020.0\n",
       "Name: year, dtype: float64"
      ]
     },
     "execution_count": 97,
     "metadata": {},
     "output_type": "execute_result"
    }
   ],
   "source": [
    "murano.year.agg({'min','max'})"
   ]
  },
  {
   "cell_type": "code",
   "execution_count": 98,
   "id": "3aa751b4",
   "metadata": {},
   "outputs": [],
   "source": [
    "filters = [\n",
    "    \n",
    "    (gas.year<=2006),\n",
    "    (gas.year==2007),\n",
    "    (gas.year==2008),\n",
    "    (gas.year>=2008) & (gas.year<=2011),\n",
    "    (gas.year>=2012) & (gas.year<=2018),\n",
    "    (gas.year==2019),\n",
    "    (gas.year==2020)\n",
    "    \n",
    "]\n",
    "\n",
    "hp = [245,240,256,265,260,252,260]\n",
    "gas['hp'] = np.select(filters,hp)"
   ]
  },
  {
   "cell_type": "code",
   "execution_count": 99,
   "id": "268019a6",
   "metadata": {},
   "outputs": [],
   "source": [
    "murano = pd.concat([gas,hybird])"
   ]
  },
  {
   "cell_type": "code",
   "execution_count": 100,
   "id": "f2e23174",
   "metadata": {},
   "outputs": [
    {
     "data": {
      "text/plain": [
       "array(['pathfinder', 'xterra', 'murano', 'armand', 'rogue', 'x-trail',\n",
       "       'juke', 'kicks'], dtype=object)"
      ]
     },
     "execution_count": 100,
     "metadata": {},
     "output_type": "execute_result"
    }
   ],
   "source": [
    "suv.model.unique()"
   ]
  },
  {
   "cell_type": "markdown",
   "id": "d0af24db",
   "metadata": {},
   "source": [
    "### *Armand*"
   ]
  },
  {
   "cell_type": "code",
   "execution_count": 101,
   "id": "d2cbfa5c",
   "metadata": {},
   "outputs": [],
   "source": [
    "armand = suv.query('model==\"armand\"')"
   ]
  },
  {
   "cell_type": "markdown",
   "id": "6314fc42",
   "metadata": {},
   "source": [
    "#### *Cylinders*"
   ]
  },
  {
   "cell_type": "code",
   "execution_count": 102,
   "id": "6474137c",
   "metadata": {},
   "outputs": [],
   "source": [
    "armand.cylinders.fillna(8,inplace = True)\n",
    "armand.cylinders = np.where(armand.cylinders!=8,8,armand.cylinders)"
   ]
  },
  {
   "cell_type": "markdown",
   "id": "6360b027",
   "metadata": {},
   "source": [
    "#### *Engine Size*"
   ]
  },
  {
   "cell_type": "code",
   "execution_count": 103,
   "id": "e4fd4c91",
   "metadata": {},
   "outputs": [],
   "source": [
    "armand['engine_size'] = 5.6"
   ]
  },
  {
   "cell_type": "markdown",
   "id": "651b91e2",
   "metadata": {},
   "source": [
    "#### *Horsepower*"
   ]
  },
  {
   "cell_type": "code",
   "execution_count": 104,
   "id": "3532ab25",
   "metadata": {},
   "outputs": [],
   "source": [
    "filters = [\n",
    "    (armand.year<=2006),\n",
    "    (armand.year>=2007) & (armand.year<=2015),\n",
    "    (armand.year>=2016)\n",
    "]\n",
    "\n",
    "hp = [306,317,390]\n",
    "armand['hp'] = np.select(filters,hp)"
   ]
  },
  {
   "cell_type": "markdown",
   "id": "3ba35f2b",
   "metadata": {},
   "source": [
    "### *Rogue*"
   ]
  },
  {
   "cell_type": "code",
   "execution_count": 105,
   "id": "d9243ff6",
   "metadata": {},
   "outputs": [],
   "source": [
    "rogue = suv.query('model==\"rogue\"')"
   ]
  },
  {
   "cell_type": "markdown",
   "id": "818e0638",
   "metadata": {},
   "source": [
    "#### *Year*"
   ]
  },
  {
   "cell_type": "code",
   "execution_count": 106,
   "id": "95f2c40b",
   "metadata": {},
   "outputs": [],
   "source": [
    "rogue.year = np.where(rogue.year<2007,2007,rogue.year)"
   ]
  },
  {
   "cell_type": "markdown",
   "id": "78a65f78",
   "metadata": {},
   "source": [
    "#### *Cylinders*"
   ]
  },
  {
   "cell_type": "code",
   "execution_count": 107,
   "id": "69e06ee4",
   "metadata": {},
   "outputs": [],
   "source": [
    "rogue.cylinders.fillna(4,inplace = True)\n",
    "rogue.cylinders = np.where(rogue.cylinders!=4,4,rogue.cylinders)"
   ]
  },
  {
   "cell_type": "markdown",
   "id": "03d86dd3",
   "metadata": {},
   "source": [
    "#### *Engine Size*"
   ]
  },
  {
   "cell_type": "code",
   "execution_count": 108,
   "id": "cceb98d6",
   "metadata": {},
   "outputs": [],
   "source": [
    "rogue['engine_size'] = 2.5"
   ]
  },
  {
   "cell_type": "markdown",
   "id": "17a9622d",
   "metadata": {},
   "source": [
    "#### *Horsepower*"
   ]
  },
  {
   "cell_type": "code",
   "execution_count": 109,
   "id": "5b90c7fa",
   "metadata": {},
   "outputs": [],
   "source": [
    "rogue['hp'] = 170"
   ]
  },
  {
   "cell_type": "markdown",
   "id": "a94989ed",
   "metadata": {},
   "source": [
    "### *Extreme*"
   ]
  },
  {
   "cell_type": "code",
   "execution_count": 110,
   "id": "007f31b3",
   "metadata": {},
   "outputs": [],
   "source": [
    "extreme = suv.query('model==\"extreme\"')"
   ]
  },
  {
   "cell_type": "markdown",
   "id": "8e53b368",
   "metadata": {},
   "source": [
    "#### *Cylinders*"
   ]
  },
  {
   "cell_type": "code",
   "execution_count": 111,
   "id": "166a9d0f",
   "metadata": {},
   "outputs": [],
   "source": [
    "extreme.cylinders.fillna(4,inplace = True)"
   ]
  },
  {
   "cell_type": "markdown",
   "id": "aaf87bc3",
   "metadata": {},
   "source": [
    "#### *Engine Size*"
   ]
  },
  {
   "cell_type": "code",
   "execution_count": 112,
   "id": "16ccebcb",
   "metadata": {},
   "outputs": [],
   "source": [
    "extreme['engine_size'] = 2.5"
   ]
  },
  {
   "cell_type": "markdown",
   "id": "d3015a9f",
   "metadata": {},
   "source": [
    "#### *Horsepower*"
   ]
  },
  {
   "cell_type": "code",
   "execution_count": 113,
   "id": "8bc8cb93",
   "metadata": {},
   "outputs": [],
   "source": [
    "extreme['hp'] = 170"
   ]
  },
  {
   "cell_type": "markdown",
   "id": "d59822eb",
   "metadata": {},
   "source": [
    "## *Juke*"
   ]
  },
  {
   "cell_type": "code",
   "execution_count": 114,
   "id": "69654dd0",
   "metadata": {},
   "outputs": [],
   "source": [
    "juke = nissan.query('model==\"juke\"')"
   ]
  },
  {
   "cell_type": "markdown",
   "id": "f09659da",
   "metadata": {},
   "source": [
    "#### *Year*"
   ]
  },
  {
   "cell_type": "code",
   "execution_count": 115,
   "id": "84091236",
   "metadata": {},
   "outputs": [],
   "source": [
    "juke.year = np.where(juke.year<=2010,2010,juke.year)"
   ]
  },
  {
   "cell_type": "markdown",
   "id": "6143a1d1",
   "metadata": {},
   "source": [
    "#### *Fuel*"
   ]
  },
  {
   "cell_type": "code",
   "execution_count": 116,
   "id": "279adbee",
   "metadata": {},
   "outputs": [],
   "source": [
    "juke.fuel = np.where(juke.fuel==\"other\",\"gas\",juke.fuel)"
   ]
  },
  {
   "cell_type": "markdown",
   "id": "14d4655d",
   "metadata": {},
   "source": [
    "#### *Cylinders*"
   ]
  },
  {
   "cell_type": "code",
   "execution_count": 117,
   "id": "a0b818c9",
   "metadata": {},
   "outputs": [],
   "source": [
    "juke.cylinders.fillna(4,inplace = True)\n",
    "juke.cylinders = np.where(juke.cylinders!=4,4,juke.cylinders)"
   ]
  },
  {
   "cell_type": "markdown",
   "id": "bc02d542",
   "metadata": {},
   "source": [
    "#### *Engine Size*"
   ]
  },
  {
   "cell_type": "code",
   "execution_count": 118,
   "id": "38c3aae7",
   "metadata": {},
   "outputs": [],
   "source": [
    "juke['engine_size'] = 1.6"
   ]
  },
  {
   "cell_type": "markdown",
   "id": "8feb8d74",
   "metadata": {},
   "source": [
    "#### *Horsepower*"
   ]
  },
  {
   "cell_type": "code",
   "execution_count": 119,
   "id": "4a96db7c",
   "metadata": {},
   "outputs": [],
   "source": [
    "filters = [\n",
    "    (juke.year<=2010),\n",
    "    (juke.year>=2011)\n",
    "]\n",
    "\n",
    "hp = [115,188]\n",
    "juke['hp'] = np.select(filters,hp)"
   ]
  },
  {
   "cell_type": "markdown",
   "id": "9fe78d15",
   "metadata": {},
   "source": [
    "## *Kicks*"
   ]
  },
  {
   "cell_type": "code",
   "execution_count": 120,
   "id": "cbbad6cf",
   "metadata": {},
   "outputs": [],
   "source": [
    "kicks = suv.query('model==\"kicks\"')"
   ]
  },
  {
   "cell_type": "markdown",
   "id": "f80b9f3f",
   "metadata": {},
   "source": [
    "#### *Cylinders*"
   ]
  },
  {
   "cell_type": "code",
   "execution_count": 121,
   "id": "17bd60ec",
   "metadata": {},
   "outputs": [],
   "source": [
    "kicks.cylinders.fillna(4,inplace = True)"
   ]
  },
  {
   "cell_type": "markdown",
   "id": "ebcd42aa",
   "metadata": {},
   "source": [
    "#### *Engine Size*"
   ]
  },
  {
   "cell_type": "code",
   "execution_count": 122,
   "id": "6ff64371",
   "metadata": {},
   "outputs": [],
   "source": [
    "kicks['engine_size'] = 2.5"
   ]
  },
  {
   "cell_type": "markdown",
   "id": "ac7c3f9d",
   "metadata": {},
   "source": [
    "#### *Horsepower*"
   ]
  },
  {
   "cell_type": "code",
   "execution_count": 123,
   "id": "56053bd5",
   "metadata": {},
   "outputs": [],
   "source": [
    "filters = [\n",
    "    (kicks.year<=2019),\n",
    "    (kicks.year>=2020)\n",
    "]\n",
    "hp = [125,122]\n",
    "kicks['hp'] = np.select(filters,hp)"
   ]
  },
  {
   "cell_type": "code",
   "execution_count": 124,
   "id": "5616bcec",
   "metadata": {},
   "outputs": [],
   "source": [
    "suv = pd.concat([pathfinder,murano,armand,rogue,extreme,juke,kicks])"
   ]
  },
  {
   "cell_type": "markdown",
   "id": "81e57393",
   "metadata": {},
   "source": [
    "## *Pickup*"
   ]
  },
  {
   "cell_type": "markdown",
   "id": "6fb3fd92",
   "metadata": {},
   "source": [
    "### *Titan*"
   ]
  },
  {
   "cell_type": "code",
   "execution_count": 125,
   "id": "8e3124f3",
   "metadata": {},
   "outputs": [],
   "source": [
    "titan = pickup.query('model==\"titan\"')"
   ]
  },
  {
   "cell_type": "markdown",
   "id": "060abf3a",
   "metadata": {},
   "source": [
    "#### *Fuel*"
   ]
  },
  {
   "cell_type": "code",
   "execution_count": 126,
   "id": "f6edac50",
   "metadata": {},
   "outputs": [],
   "source": [
    "titan = titan.query('fuel!=\"electric\"')"
   ]
  },
  {
   "cell_type": "markdown",
   "id": "d8625a5c",
   "metadata": {},
   "source": [
    "#### *Cylinders*"
   ]
  },
  {
   "cell_type": "code",
   "execution_count": 127,
   "id": "9b78a90f",
   "metadata": {},
   "outputs": [],
   "source": [
    "titan.cylinders.fillna(8,inplace = True)\n",
    "titan = titan.query('cylinders==8')"
   ]
  },
  {
   "cell_type": "markdown",
   "id": "3928fcaf",
   "metadata": {},
   "source": [
    "#### *Engine Size*"
   ]
  },
  {
   "cell_type": "code",
   "execution_count": 128,
   "id": "af71c239",
   "metadata": {},
   "outputs": [],
   "source": [
    "filters = [\n",
    "    (titan.fuel==\"gas\"),\n",
    "    (titan.fuel==\"diesel\")\n",
    "]\n",
    "\n",
    "engine = [5.6,5.0]\n",
    "titan['engine_size'] = np.select(filters,engine)"
   ]
  },
  {
   "cell_type": "markdown",
   "id": "c4194b81",
   "metadata": {},
   "source": [
    "#### *Horsepower*"
   ]
  },
  {
   "cell_type": "code",
   "execution_count": 129,
   "id": "a9463f6f",
   "metadata": {},
   "outputs": [],
   "source": [
    "filters = [\n",
    "    (titan.year>=2004) & (titan.year<=2006),\n",
    "    (titan.year>=2007) & (titan.year<=2015),\n",
    "    (titan.year>=2016) & (titan.year<=2019) & (titan.fuel==\"gas\"),\n",
    "    (titan.year>=2016) & (titan.year<=2019) & (titan.fuel==\"diesel\"),\n",
    "    (titan.year>=2020),\n",
    "]\n",
    "hp = [305,317,390,310,400]\n",
    "titan['hp'] = np.select(filters,hp)"
   ]
  },
  {
   "cell_type": "markdown",
   "id": "b9809336",
   "metadata": {},
   "source": [
    "### *Frontier*"
   ]
  },
  {
   "cell_type": "code",
   "execution_count": 130,
   "id": "19d6ffd0",
   "metadata": {},
   "outputs": [],
   "source": [
    "frontier = pickup.query('model==\"frontier\" or model==\"pro 4x\"')\n",
    "frontier.model = np.where(frontier.model!=\"frontier\",\"frontier\",frontier.model)"
   ]
  },
  {
   "cell_type": "markdown",
   "id": "743d4cfa",
   "metadata": {},
   "source": [
    "#### *Cylinders*"
   ]
  },
  {
   "cell_type": "code",
   "execution_count": 131,
   "id": "63570095",
   "metadata": {},
   "outputs": [],
   "source": [
    "frontier.cylinders.fillna(6,inplace = True)\n",
    "frontier = frontier.query('cylinders!=8')"
   ]
  },
  {
   "cell_type": "markdown",
   "id": "ba1cd608",
   "metadata": {},
   "source": [
    "#### *Engine Size*"
   ]
  },
  {
   "cell_type": "code",
   "execution_count": 132,
   "id": "baa7377b",
   "metadata": {},
   "outputs": [
    {
     "data": {
      "text/plain": [
       "min    2000.0\n",
       "max    2020.0\n",
       "Name: year, dtype: float64"
      ]
     },
     "execution_count": 132,
     "metadata": {},
     "output_type": "execute_result"
    }
   ],
   "source": [
    "frontier.year.agg({'min','max'})"
   ]
  },
  {
   "cell_type": "code",
   "execution_count": 133,
   "id": "2e222873",
   "metadata": {},
   "outputs": [],
   "source": [
    "filters = [\n",
    "    \n",
    "    (frontier.year>=2000) & (frontier.year<=2004) & (frontier.cylinders==4),\n",
    "    (frontier.year>=2000) & (frontier.year<=2004) & (frontier.cylinders==6),\n",
    "    \n",
    "    (frontier.year>=2005) & (frontier.year<=2015) & (frontier.cylinders==4),\n",
    "    (frontier.year>=2005) & (frontier.year<=2015) & (frontier.cylinders==6),\n",
    "    \n",
    "   (frontier.year>=2016) & (frontier.cylinders==4),\n",
    "    (frontier.year>=2016) & (frontier.year<=2019) & (frontier.cylinders==6),\n",
    "    (frontier.year>=2019)\n",
    "    \n",
    "]\n",
    "\n",
    "engine = [2.4,3.3,2.4,4.0,2.5,4.0,3.8]\n",
    "\n",
    "frontier['engine_size'] = np.select(filters,engine)"
   ]
  },
  {
   "cell_type": "markdown",
   "id": "fe80021a",
   "metadata": {},
   "source": [
    "#### *Horsepower*"
   ]
  },
  {
   "cell_type": "code",
   "execution_count": 134,
   "id": "3e1d1a68",
   "metadata": {},
   "outputs": [],
   "source": [
    "filters = [\n",
    "     (frontier.year>=2000) & (frontier.year<=2004) & (frontier.cylinders==4),\n",
    "    (frontier.year>=2000) & (frontier.year<=2002) & (frontier.cylinders==6),\n",
    "    (frontier.year>=2003) & (frontier.year<=2004) & (frontier.cylinders==6),\n",
    "    \n",
    "    (frontier.year>=2005) & (frontier.year<=2015) & (frontier.cylinders==4),\n",
    "    (frontier.year>=2005) & (frontier.year<=2015) & (frontier.cylinders==6),\n",
    "    \n",
    "    (frontier.year>=2016) & (frontier.year<=2017) & (frontier.cylinders==4),\n",
    "    (frontier.year>=2017) & (frontier.year<=2019) & (frontier.cylinders==4),\n",
    "    (frontier.year>=2020) & (frontier.cylinders==4),\n",
    "    \n",
    "    \n",
    "    (frontier.year>=2016) & (frontier.year<=2019) & (frontier.cylinders==6),\n",
    "    (frontier.year>=2020) & (frontier.cylinders==6)\n",
    "    \n",
    "]\n",
    "\n",
    "hp = [143,170,210,154,265,158,161,166,261,310]\n",
    "frontier['hp'] = np.select(filters,hp)"
   ]
  },
  {
   "cell_type": "code",
   "execution_count": 135,
   "id": "82585138",
   "metadata": {},
   "outputs": [],
   "source": [
    "pickup = pd.concat([frontier,titan])"
   ]
  },
  {
   "cell_type": "markdown",
   "id": "03afd2ca",
   "metadata": {},
   "source": [
    "## *Coupe*"
   ]
  },
  {
   "cell_type": "code",
   "execution_count": 136,
   "id": "e188ffd3",
   "metadata": {},
   "outputs": [
    {
     "data": {
      "text/plain": [
       "array(['350z', '370z', 'gtr', 'z'], dtype=object)"
      ]
     },
     "execution_count": 136,
     "metadata": {},
     "output_type": "execute_result"
    }
   ],
   "source": [
    "coupe.model.unique()"
   ]
  },
  {
   "cell_type": "code",
   "execution_count": 137,
   "id": "bf379d2b",
   "metadata": {},
   "outputs": [
    {
     "data": {
      "text/html": [
       "<div><div id=ec612910-8e68-4e56-8f9d-007e140c076f style=\"display:none; background-color:#9D6CFF; color:white; width:200px; height:30px; padding-left:5px; border-radius:4px; flex-direction:row; justify-content:space-around; align-items:center;\" onmouseover=\"this.style.backgroundColor='#BA9BF8'\" onmouseout=\"this.style.backgroundColor='#9D6CFF'\" onclick=\"window.commands?.execute('create-mitosheet-from-dataframe-output');\">See Full Dataframe in Mito</div> <script> if (window.commands?.hasCommand('create-mitosheet-from-dataframe-output')) document.getElementById('ec612910-8e68-4e56-8f9d-007e140c076f').style.display = 'flex' </script> <table border=\"1\" class=\"dataframe\">\n",
       "  <thead>\n",
       "    <tr style=\"text-align: right;\">\n",
       "      <th></th>\n",
       "      <th>price</th>\n",
       "      <th>year</th>\n",
       "      <th>manufacturer</th>\n",
       "      <th>model</th>\n",
       "      <th>condition</th>\n",
       "      <th>cylinders</th>\n",
       "      <th>fuel</th>\n",
       "      <th>odometer</th>\n",
       "      <th>title_status</th>\n",
       "      <th>transmission</th>\n",
       "      <th>drive</th>\n",
       "      <th>type</th>\n",
       "      <th>paint_color</th>\n",
       "    </tr>\n",
       "  </thead>\n",
       "  <tbody>\n",
       "    <tr>\n",
       "      <th>3097</th>\n",
       "      <td>9539.0</td>\n",
       "      <td>2010.0</td>\n",
       "      <td>nissan</td>\n",
       "      <td>z</td>\n",
       "      <td>excellent</td>\n",
       "      <td>6.0</td>\n",
       "      <td>gas</td>\n",
       "      <td>79864.0</td>\n",
       "      <td>clean</td>\n",
       "      <td>automatic</td>\n",
       "      <td>rwd</td>\n",
       "      <td>coupe</td>\n",
       "      <td>grey</td>\n",
       "    </tr>\n",
       "    <tr>\n",
       "      <th>3098</th>\n",
       "      <td>9579.0</td>\n",
       "      <td>2010.0</td>\n",
       "      <td>nissan</td>\n",
       "      <td>z</td>\n",
       "      <td>excellent</td>\n",
       "      <td>6.0</td>\n",
       "      <td>gas</td>\n",
       "      <td>79864.0</td>\n",
       "      <td>rebuilt</td>\n",
       "      <td>automatic</td>\n",
       "      <td>rwd</td>\n",
       "      <td>coupe</td>\n",
       "      <td>grey</td>\n",
       "    </tr>\n",
       "    <tr>\n",
       "      <th>8028</th>\n",
       "      <td>29995.0</td>\n",
       "      <td>2017.0</td>\n",
       "      <td>nissan</td>\n",
       "      <td>z</td>\n",
       "      <td>good</td>\n",
       "      <td>6.0</td>\n",
       "      <td>gas</td>\n",
       "      <td>16835.0</td>\n",
       "      <td>clean</td>\n",
       "      <td>automatic</td>\n",
       "      <td>rwd</td>\n",
       "      <td>coupe</td>\n",
       "      <td>blue</td>\n",
       "    </tr>\n",
       "  </tbody>\n",
       "</table></div>"
      ],
      "text/plain": [
       "        price    year manufacturer model  condition  cylinders fuel  odometer  \\\n",
       "3097   9539.0  2010.0       nissan     z  excellent        6.0  gas   79864.0   \n",
       "3098   9579.0  2010.0       nissan     z  excellent        6.0  gas   79864.0   \n",
       "8028  29995.0  2017.0       nissan     z       good        6.0  gas   16835.0   \n",
       "\n",
       "     title_status transmission drive   type paint_color  \n",
       "3097        clean    automatic   rwd  coupe        grey  \n",
       "3098      rebuilt    automatic   rwd  coupe        grey  \n",
       "8028        clean    automatic   rwd  coupe        blue  "
      ]
     },
     "execution_count": 137,
     "metadata": {},
     "output_type": "execute_result"
    }
   ],
   "source": [
    "coupe.query('model==\"z\"')"
   ]
  },
  {
   "cell_type": "code",
   "execution_count": 138,
   "id": "c5d1db21",
   "metadata": {},
   "outputs": [],
   "source": [
    "condition = (coupe.model==\"z\") & (coupe.title_status!=\"rebuilt\")\n",
    "coupe['model'] = np.where(condition,'370z',coupe.model)"
   ]
  },
  {
   "cell_type": "markdown",
   "id": "4fe8582f",
   "metadata": {},
   "source": [
    "#### *Cylinders*"
   ]
  },
  {
   "cell_type": "code",
   "execution_count": 139,
   "id": "3c5e1a39",
   "metadata": {},
   "outputs": [
    {
     "data": {
      "text/plain": [
       "array([ 6., nan])"
      ]
     },
     "execution_count": 139,
     "metadata": {},
     "output_type": "execute_result"
    }
   ],
   "source": [
    "coupe.cylinders.unique()"
   ]
  },
  {
   "cell_type": "code",
   "execution_count": 140,
   "id": "471dcacf",
   "metadata": {},
   "outputs": [],
   "source": [
    "coupe.cylinders.fillna(6,inplace = True)"
   ]
  },
  {
   "cell_type": "markdown",
   "id": "529f69c9",
   "metadata": {},
   "source": [
    "#### *Fuel*"
   ]
  },
  {
   "cell_type": "code",
   "execution_count": 141,
   "id": "4188f857",
   "metadata": {},
   "outputs": [
    {
     "data": {
      "text/plain": [
       "array(['gas'], dtype=object)"
      ]
     },
     "execution_count": 141,
     "metadata": {},
     "output_type": "execute_result"
    }
   ],
   "source": [
    "coupe.fuel.unique()"
   ]
  },
  {
   "cell_type": "markdown",
   "id": "8a948422",
   "metadata": {},
   "source": [
    "## *350z*"
   ]
  },
  {
   "cell_type": "code",
   "execution_count": 142,
   "id": "d9bfb156",
   "metadata": {},
   "outputs": [],
   "source": [
    "_350z = coupe.query('model==\"350z\"')"
   ]
  },
  {
   "cell_type": "markdown",
   "id": "77228bec",
   "metadata": {},
   "source": [
    "#### *Engine*"
   ]
  },
  {
   "cell_type": "code",
   "execution_count": 143,
   "id": "0ff0292f",
   "metadata": {},
   "outputs": [],
   "source": [
    "_350z['engine_size'] = 3.5"
   ]
  },
  {
   "cell_type": "markdown",
   "id": "1d86127a",
   "metadata": {},
   "source": [
    "#### *Horsepower*"
   ]
  },
  {
   "cell_type": "code",
   "execution_count": 144,
   "id": "16691d27",
   "metadata": {},
   "outputs": [],
   "source": [
    "filters = [\n",
    "    (_350z.year<=2005),\n",
    "    (_350z.year==2006),\n",
    "    (_350z.year>=2007)\n",
    "]\n",
    "\n",
    "hp = [287,300,306]\n",
    "\n",
    "_350z['hp'] = np.select(filters,hp)"
   ]
  },
  {
   "cell_type": "markdown",
   "id": "fb502293",
   "metadata": {},
   "source": [
    "## *370z*"
   ]
  },
  {
   "cell_type": "code",
   "execution_count": 145,
   "id": "82c33a66",
   "metadata": {},
   "outputs": [],
   "source": [
    "_370z = coupe.query('model==\"370z\"')"
   ]
  },
  {
   "cell_type": "markdown",
   "id": "dc260ab5",
   "metadata": {},
   "source": [
    "#### *Engine Size*"
   ]
  },
  {
   "cell_type": "code",
   "execution_count": 146,
   "id": "897d4216",
   "metadata": {},
   "outputs": [],
   "source": [
    "_370z['engine_size'] = 3.7"
   ]
  },
  {
   "cell_type": "markdown",
   "id": "3babaed0",
   "metadata": {},
   "source": [
    "#### *Horsepower*"
   ]
  },
  {
   "cell_type": "code",
   "execution_count": 147,
   "id": "8f3d646a",
   "metadata": {},
   "outputs": [],
   "source": [
    "_370z['hp'] = 332"
   ]
  },
  {
   "cell_type": "markdown",
   "id": "4bc3dbb4",
   "metadata": {},
   "source": [
    "## *GTR*"
   ]
  },
  {
   "cell_type": "code",
   "execution_count": 148,
   "id": "355bc3b8",
   "metadata": {},
   "outputs": [],
   "source": [
    "gtr = coupe.query('model==\"gtr\"')"
   ]
  },
  {
   "cell_type": "markdown",
   "id": "d085480f",
   "metadata": {},
   "source": [
    "#### *Engine Size*"
   ]
  },
  {
   "cell_type": "code",
   "execution_count": 149,
   "id": "ef0707d1",
   "metadata": {},
   "outputs": [],
   "source": [
    "gtr['engine_size'] = 3.8"
   ]
  },
  {
   "cell_type": "markdown",
   "id": "d58e59e4",
   "metadata": {},
   "source": [
    "#### *Horsepower*"
   ]
  },
  {
   "cell_type": "code",
   "execution_count": 150,
   "id": "0944ce21",
   "metadata": {},
   "outputs": [],
   "source": [
    "filters = [\n",
    "    (gtr.year<=2007),\n",
    "    (gtr.year>=2008) & (gtr.year<=2011),\n",
    "    (gtr.year==2012),\n",
    "    (gtr.year>2012)\n",
    "]\n",
    "\n",
    "hp = [480,485,530,545]\n",
    "\n",
    "gtr['hp'] = np.select(filters,hp)"
   ]
  },
  {
   "cell_type": "code",
   "execution_count": 151,
   "id": "30fed355",
   "metadata": {},
   "outputs": [],
   "source": [
    "coupe = pd.concat([_350z,_370z,gtr])"
   ]
  },
  {
   "cell_type": "markdown",
   "id": "16a681b7",
   "metadata": {},
   "source": [
    "## *Hatchback*"
   ]
  },
  {
   "cell_type": "code",
   "execution_count": 152,
   "id": "3e8e1ee4",
   "metadata": {},
   "outputs": [],
   "source": [
    "hatchback.cylinders = np.where(hatchback.fuel==\"electric\",\n",
    "                               0,\n",
    "                               hatchback.cylinders)"
   ]
  },
  {
   "cell_type": "markdown",
   "id": "cc813ed9",
   "metadata": {},
   "source": [
    "### *Leaft*"
   ]
  },
  {
   "cell_type": "code",
   "execution_count": 153,
   "id": "0a176298",
   "metadata": {},
   "outputs": [],
   "source": [
    "leaft = hatchback.query('model==\"leaf\"')"
   ]
  },
  {
   "cell_type": "code",
   "execution_count": 154,
   "id": "493a6a4a",
   "metadata": {},
   "outputs": [],
   "source": [
    "leaft = leaft.query('fuel==\"electric\"')"
   ]
  },
  {
   "cell_type": "markdown",
   "id": "42572ff5",
   "metadata": {},
   "source": [
    "This car is Nissan's response to add to the trend of fully electric cars"
   ]
  },
  {
   "cell_type": "code",
   "execution_count": 155,
   "id": "1035d435",
   "metadata": {},
   "outputs": [
    {
     "data": {
      "text/plain": [
       "array(['automatic', 'manual'], dtype=object)"
      ]
     },
     "execution_count": 155,
     "metadata": {},
     "output_type": "execute_result"
    }
   ],
   "source": [
    "leaft.transmission.unique()"
   ]
  },
  {
   "cell_type": "code",
   "execution_count": 156,
   "id": "22f1d240",
   "metadata": {},
   "outputs": [],
   "source": [
    "leaft.transmission = np.where(leaft.transmission!=\"automatic\",\n",
    "                              \"automatic\",\n",
    "                              leaft.transmission)"
   ]
  },
  {
   "cell_type": "markdown",
   "id": "7b4c27cf",
   "metadata": {},
   "source": [
    "All electric cars share a single-speed automatic transmission."
   ]
  },
  {
   "cell_type": "markdown",
   "id": "7b805db0",
   "metadata": {},
   "source": [
    "#### *Engine Size*"
   ]
  },
  {
   "cell_type": "code",
   "execution_count": 157,
   "id": "b2635148",
   "metadata": {},
   "outputs": [],
   "source": [
    "leaft['engine_size'] = 0"
   ]
  },
  {
   "cell_type": "markdown",
   "id": "6b9904c2",
   "metadata": {},
   "source": [
    "Engine size is the volume of fuel and air that can be pushed through a car's cylinders and is measured in cubic centimeters (cc). Because it is an electric car we will assign an engine size with a value of zero."
   ]
  },
  {
   "cell_type": "markdown",
   "id": "c584b11c",
   "metadata": {},
   "source": [
    "#### *Horsepower*"
   ]
  },
  {
   "cell_type": "code",
   "execution_count": 158,
   "id": "a2fcec48",
   "metadata": {},
   "outputs": [],
   "source": [
    "leaft['hp'] = 147"
   ]
  },
  {
   "cell_type": "markdown",
   "id": "e23f9d33",
   "metadata": {},
   "source": [
    "## *Note*"
   ]
  },
  {
   "cell_type": "code",
   "execution_count": 159,
   "id": "f5de4b97",
   "metadata": {},
   "outputs": [],
   "source": [
    "note = hatchback.query('model==\"note\"')"
   ]
  },
  {
   "cell_type": "markdown",
   "id": "148ac17e",
   "metadata": {},
   "source": [
    "#### *Cylinders*"
   ]
  },
  {
   "cell_type": "code",
   "execution_count": 160,
   "id": "5f992b45",
   "metadata": {},
   "outputs": [],
   "source": [
    "note.cylinders.fillna(4,inplace = True)"
   ]
  },
  {
   "cell_type": "markdown",
   "id": "240335d3",
   "metadata": {},
   "source": [
    "#### *Engine Size*"
   ]
  },
  {
   "cell_type": "code",
   "execution_count": 161,
   "id": "7a6f95d7",
   "metadata": {},
   "outputs": [],
   "source": [
    "note['engine_size'] = 1.6"
   ]
  },
  {
   "cell_type": "markdown",
   "id": "c30d9499",
   "metadata": {},
   "source": [
    "#### *Horsepower*"
   ]
  },
  {
   "cell_type": "code",
   "execution_count": 162,
   "id": "a149f58e",
   "metadata": {},
   "outputs": [],
   "source": [
    "note['hp'] = 109"
   ]
  },
  {
   "cell_type": "code",
   "execution_count": 163,
   "id": "4283fec2",
   "metadata": {},
   "outputs": [],
   "source": [
    "hatchback = pd.concat([leaft,note])"
   ]
  },
  {
   "cell_type": "markdown",
   "id": "7e4d5588",
   "metadata": {},
   "source": [
    "## *Offroad*"
   ]
  },
  {
   "cell_type": "markdown",
   "id": "9bf3a334",
   "metadata": {},
   "source": [
    "### *Xterra*"
   ]
  },
  {
   "cell_type": "code",
   "execution_count": 164,
   "id": "6547ea18",
   "metadata": {},
   "outputs": [],
   "source": [
    "xterra = offroad.query('model==\"xterra\"')"
   ]
  },
  {
   "cell_type": "markdown",
   "id": "e7332e85",
   "metadata": {},
   "source": [
    "#### *Fuel*"
   ]
  },
  {
   "cell_type": "code",
   "execution_count": 165,
   "id": "47defede",
   "metadata": {},
   "outputs": [],
   "source": [
    "xterra.fuel = np.where(xterra.fuel!=\"gas\",\"gas\",xterra.fuel)"
   ]
  },
  {
   "cell_type": "markdown",
   "id": "b326958c",
   "metadata": {},
   "source": [
    "#### *Cylinders*"
   ]
  },
  {
   "cell_type": "code",
   "execution_count": 166,
   "id": "bd384fdf",
   "metadata": {},
   "outputs": [],
   "source": [
    "xterra.cylinders.fillna(6,inplace=True)\n",
    "xterra.cylinders = np.where(xterra.cylinders>6,6,xterra.cylinders)"
   ]
  },
  {
   "cell_type": "markdown",
   "id": "bf7ac9c1",
   "metadata": {},
   "source": [
    "#### *Engine Size*"
   ]
  },
  {
   "cell_type": "code",
   "execution_count": 167,
   "id": "de48c3e8",
   "metadata": {},
   "outputs": [],
   "source": [
    "filters = [\n",
    "    (xterra.year<=2004) & (xterra.cylinders==4),\n",
    "    (xterra.year<=2004) & (xterra.cylinders==6),\n",
    "    (xterra.year>=2005)\n",
    "]\n",
    "\n",
    "engine = [2.4,3.3,4.0]\n",
    "\n",
    "xterra['engine_size'] = np.select(filters,engine)"
   ]
  },
  {
   "cell_type": "markdown",
   "id": "fbadd9a2",
   "metadata": {},
   "source": [
    "#### *Horsepower*"
   ]
  },
  {
   "cell_type": "code",
   "execution_count": 168,
   "id": "17dbb0ed",
   "metadata": {},
   "outputs": [],
   "source": [
    "filters = [\n",
    "    (xterra.engine_size==2.4),\n",
    "    (xterra.engine_size==3.3),\n",
    "    (xterra.engine_size==4.0)\n",
    "]\n",
    "\n",
    "hp = [143,170,265]\n",
    "\n",
    "xterra['hp'] = np.select(filters,hp)"
   ]
  },
  {
   "cell_type": "code",
   "execution_count": 169,
   "id": "83cbef0a",
   "metadata": {},
   "outputs": [],
   "source": [
    "offroad = pd.concat([xterra])"
   ]
  },
  {
   "cell_type": "markdown",
   "id": "9584b65b",
   "metadata": {},
   "source": [
    "## *Final Clear*"
   ]
  },
  {
   "cell_type": "code",
   "execution_count": 170,
   "id": "c03ed406",
   "metadata": {},
   "outputs": [],
   "source": [
    "nissan = pd.concat([sedan,pickup,suv,offroad,coupe,hatchback])"
   ]
  },
  {
   "cell_type": "code",
   "execution_count": 171,
   "id": "746e8830",
   "metadata": {},
   "outputs": [],
   "source": [
    "nissan.year = nissan.year.astype(np.int32)"
   ]
  },
  {
   "cell_type": "markdown",
   "id": "6b6050bd",
   "metadata": {},
   "source": [
    "### *Condition*"
   ]
  },
  {
   "cell_type": "code",
   "execution_count": 172,
   "id": "cb29ee13",
   "metadata": {},
   "outputs": [],
   "source": [
    "nissan_condition_null = nissan[nissan.condition.isnull()]\n",
    "nissan = nissan.dropna(subset=['condition'])"
   ]
  },
  {
   "cell_type": "code",
   "execution_count": 173,
   "id": "f0732194",
   "metadata": {},
   "outputs": [],
   "source": [
    "filters = [\n",
    "    \n",
    "    (nissan_condition_null.year==2000) & (nissan_condition_null.odometer<=196980),\n",
    "    (nissan_condition_null.year==2001) & (nissan_condition_null.odometer<=187600),\n",
    "    (nissan_condition_null.year==2002) & (nissan_condition_null.odometer<=178220),\n",
    "    (nissan_condition_null.year==2003) & (nissan_condition_null.odometer<=168840),\n",
    "    (nissan_condition_null.year==2004) & (nissan_condition_null.odometer<=159460),\n",
    "    \n",
    "    (nissan_condition_null.year==2005) & (nissan_condition_null.odometer<=150080),\n",
    "    (nissan_condition_null.year==2006) & (nissan_condition_null.odometer<=140700),\n",
    "    (nissan_condition_null.year==2008) & (nissan_condition_null.odometer<=121940),\n",
    "    (nissan_condition_null.year==2009) & (nissan_condition_null.odometer<=112560),\n",
    "    (nissan_condition_null.year==2010) & (nissan_condition_null.odometer<=103180),\n",
    "    \n",
    "    (nissan_condition_null.year==2011) & (nissan_condition_null.odometer<=93800),\n",
    "    (nissan_condition_null.year==2012) & (nissan_condition_null.odometer<=84420),\n",
    "    (nissan_condition_null.year==2013) & (nissan_condition_null.odometer<=75040),\n",
    "    (nissan_condition_null.year==2014) & (nissan_condition_null.odometer<=65660),\n",
    "    (nissan_condition_null.year==2015) & (nissan_condition_null.odometer<=56280),\n",
    "    \n",
    "    (nissan_condition_null.year==2016) & (nissan_condition_null.odometer<=46900),\n",
    "    (nissan_condition_null.year==2017) & (nissan_condition_null.odometer<=37520),\n",
    "    (nissan_condition_null.year==2018) & (nissan_condition_null.odometer<=28140),\n",
    "    (nissan_condition_null.year==2019) & (nissan_condition_null.odometer<=18760),\n",
    "    (nissan_condition_null.year==2020) & (nissan_condition_null.odometer<=9380),\n",
    "    (nissan_condition_null.year==2021) & (nissan_condition_null.odometer<=9380)\n",
    "    \n",
    "]"
   ]
  },
  {
   "cell_type": "code",
   "execution_count": 174,
   "id": "e93ed599",
   "metadata": {},
   "outputs": [],
   "source": [
    "good = np.random.choice(['good'],10)\n",
    "excellent = np.random.choice(['excellent'],8)\n",
    "like_new = np.random.choice(['like new'],3)\n",
    "\n",
    "condition = np.concatenate([good,excellent,like_new])"
   ]
  },
  {
   "cell_type": "code",
   "execution_count": 175,
   "id": "c046fe7e",
   "metadata": {},
   "outputs": [],
   "source": [
    "nissan_condition_null.condition = np.select(filters,condition)"
   ]
  },
  {
   "cell_type": "code",
   "execution_count": 176,
   "id": "61072d04",
   "metadata": {},
   "outputs": [],
   "source": [
    "nissan_condition_clear = nissan_condition_null.query('condition!=\"0\"')\n",
    "nissan_condition_null =  nissan_condition_null.query('condition==\"0\"')"
   ]
  },
  {
   "cell_type": "code",
   "execution_count": 177,
   "id": "2a399326",
   "metadata": {},
   "outputs": [],
   "source": [
    "filters = [\n",
    "    (nissan_condition_null.year<=2010),\n",
    "    (nissan_condition_null.year>=2011) & (nissan_condition_null.year<=2018),\n",
    "    (nissan_condition_null.year>=2019)\n",
    "\n",
    "]\n",
    "condition = ['acceptable','good','excellent']\n",
    "nissan_condition_null['condition'] = np.select(filters,condition)"
   ]
  },
  {
   "cell_type": "code",
   "execution_count": 178,
   "id": "174835af",
   "metadata": {},
   "outputs": [],
   "source": [
    "nissan_condition_clear = pd.concat([nissan_condition_clear,nissan_condition_null])"
   ]
  },
  {
   "cell_type": "code",
   "execution_count": 186,
   "id": "55b47e6d",
   "metadata": {},
   "outputs": [],
   "source": [
    "nissan = pd.concat([nissan_condition_clear,nissan])"
   ]
  },
  {
   "cell_type": "code",
   "execution_count": 187,
   "id": "59b2cc6e",
   "metadata": {},
   "outputs": [],
   "source": [
    "nissan =  nissan.drop(columns=['drive','manufacturer','model'])"
   ]
  },
  {
   "cell_type": "markdown",
   "id": "8eac20b7",
   "metadata": {},
   "source": [
    "## *Treatment of Variables*"
   ]
  },
  {
   "cell_type": "markdown",
   "id": "cc4bb11b",
   "metadata": {},
   "source": [
    "### *Continuous Variables*"
   ]
  },
  {
   "cell_type": "code",
   "execution_count": 189,
   "id": "45b0aa39",
   "metadata": {},
   "outputs": [],
   "source": [
    "plt.style.use('ggplot')"
   ]
  },
  {
   "cell_type": "code",
   "execution_count": 190,
   "id": "bb9ad84b",
   "metadata": {},
   "outputs": [
    {
     "data": {
      "image/png": "[encoded data removed]",
      "text/plain": [
       "<Figure size 1080x360 with 2 Axes>"
      ]
     },
     "metadata": {},
     "output_type": "display_data"
    }
   ],
   "source": [
    "fig,ax = plt.subplots(1,2,figsize = (15,5))\n",
    "nissan.plot(kind = \"hist\",y = 'price',ax = ax[0],color = \"#bfff00\",ec = \"green\",lw = 3)\n",
    "nissan.plot(kind = \"hist\",y = 'odometer',ax = ax[1],color = \"lightblue\",ec = \"c\",lw = 3)\n",
    "plt.savefig('odmoter_price.png')"
   ]
  },
  {
   "cell_type": "markdown",
   "id": "34a11b68",
   "metadata": {},
   "source": [
    "We observe several lagging data but at the same time they are consistent, since there are cars such as the case of the Nissan GTR that can cost too much. Here the solution will be to perform a transformation to the variable, so that the data has a value closer to the average value."
   ]
  },
  {
   "cell_type": "code",
   "execution_count": 191,
   "id": "24751c50",
   "metadata": {},
   "outputs": [],
   "source": [
    "nissan.odometer = nissan.odometer.apply(np.sqrt)\n",
    "nissan.price = nissan.price.apply(np.log)"
   ]
  },
  {
   "cell_type": "markdown",
   "id": "6d4a9623",
   "metadata": {},
   "source": [
    "We apply a logarithmic transformation for the price variable and for the mileage variable we extract the square root for each data, these transformations help to improve the distribution of the data allowing very distant values to be very close to the average value."
   ]
  },
  {
   "cell_type": "code",
   "execution_count": 192,
   "id": "bc6ee3c4",
   "metadata": {},
   "outputs": [
    {
     "data": {
      "image/png": "[encoded data removed]",
      "text/plain": [
       "<Figure size 1080x360 with 2 Axes>"
      ]
     },
     "metadata": {},
     "output_type": "display_data"
    }
   ],
   "source": [
    "fig,ax = plt.subplots(1,2,figsize = (15,5))\n",
    "nissan.plot(kind = \"hist\",y = 'price',ax = ax[0],color = \"#bfff00\",ec = \"green\",lw = 3)\n",
    "nissan.plot(kind = \"hist\",y = 'odometer',ax = ax[1],color = \"lightblue\",ec = \"c\",lw = 3)\n",
    "plt.savefig('transform.png')"
   ]
  },
  {
   "cell_type": "markdown",
   "id": "983bc1d1",
   "metadata": {},
   "source": [
    "## *Categorical Variables*"
   ]
  },
  {
   "cell_type": "markdown",
   "id": "1bd0fdf8",
   "metadata": {},
   "source": [
    "### *Ordinal Variables*"
   ]
  },
  {
   "cell_type": "code",
   "execution_count": 193,
   "id": "10486f28",
   "metadata": {},
   "outputs": [],
   "source": [
    "nissan.condition.replace(['acceptable','good','excellent','like new'],[0,1,2,3],inplace = True)\n",
    "nissan.title_status.replace(['parts only','lien','rebuilt','clean'],[0,1,2,3],inplace = True)"
   ]
  },
  {
   "cell_type": "markdown",
   "id": "d987c14d",
   "metadata": {},
   "source": [
    "These variables are nominal categoricals because the order of the category matters."
   ]
  },
  {
   "cell_type": "markdown",
   "id": "5eaab5a3",
   "metadata": {},
   "source": [
    "### *Nominal Variables*"
   ]
  },
  {
   "cell_type": "code",
   "execution_count": 194,
   "id": "047dc2d5",
   "metadata": {},
   "outputs": [],
   "source": [
    "nissan.transmission = np.where(nissan.transmission==\"automatic\",1,0)\n",
    "nissan = pd.get_dummies(nissan,prefix= \" \",prefix_sep= \" \")"
   ]
  },
  {
   "cell_type": "markdown",
   "id": "685df799",
   "metadata": {},
   "source": [
    "The nominal variables do not specify any type of order, so the One Hot transformation will be applied here, where dummy variables will be created according to the number of categories."
   ]
  },
  {
   "cell_type": "markdown",
   "id": "f33b4ee9",
   "metadata": {},
   "source": [
    "## *Save Data Clear*"
   ]
  },
  {
   "cell_type": "code",
   "execution_count": 195,
   "id": "1e1e32cf",
   "metadata": {},
   "outputs": [],
   "source": [
    "nissan.to_csv('nissan_clear.csv',index = False)"
   ]
  }
 ],
 "metadata": {
  "kernelspec": {
   "display_name": "Python 3 (ipykernel)",
   "language": "python",
   "name": "python3"
  },
  "language_info": {
   "codemirror_mode": {
    "name": "ipython",
    "version": 3
   },
   "file_extension": ".py",
   "mimetype": "text/x-python",
   "name": "python",
   "nbconvert_exporter": "python",
   "pygments_lexer": "ipython3",
   "version": "3.9.7"
  }
 },
 "nbformat": 4,
 "nbformat_minor": 5
}
